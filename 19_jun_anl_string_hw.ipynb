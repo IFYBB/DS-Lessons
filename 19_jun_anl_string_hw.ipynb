{
  "nbformat": 4,
  "nbformat_minor": 0,
  "metadata": {
    "kernelspec": {
      "display_name": "Python 3",
      "language": "python",
      "name": "python3"
    },
    "language_info": {
      "codemirror_mode": {
        "name": "ipython",
        "version": 3
      },
      "file_extension": ".py",
      "mimetype": "text/x-python",
      "name": "python",
      "nbconvert_exporter": "python",
      "pygments_lexer": "ipython3",
      "version": "3.6.7"
    },
    "colab": {
      "name": "19.jun_anl_string_hw.ipynb",
      "provenance": []
    }
  },
  "cells": [
    {
      "cell_type": "markdown",
      "metadata": {
        "id": "8sICHyHK9lIP"
      },
      "source": [
        "## Подготовка данных для занятия"
      ]
    },
    {
      "cell_type": "code",
      "metadata": {
        "colab": {
          "base_uri": "https://localhost:8080/"
        },
        "id": "WmYIXQJN9lIR",
        "outputId": "e070e357-103f-4187-95fc-950577dbd83d"
      },
      "source": [
        "!pip install pymorphy2"
      ],
      "execution_count": 1,
      "outputs": [
        {
          "output_type": "stream",
          "text": [
            "Collecting pymorphy2\n",
            "\u001b[?25l  Downloading https://files.pythonhosted.org/packages/07/57/b2ff2fae3376d4f3c697b9886b64a54b476e1a332c67eee9f88e7f1ae8c9/pymorphy2-0.9.1-py3-none-any.whl (55kB)\n",
            "\r\u001b[K     |██████                          | 10kB 15.7MB/s eta 0:00:01\r\u001b[K     |███████████▉                    | 20kB 13.6MB/s eta 0:00:01\r\u001b[K     |█████████████████▊              | 30kB 9.5MB/s eta 0:00:01\r\u001b[K     |███████████████████████▋        | 40kB 7.9MB/s eta 0:00:01\r\u001b[K     |█████████████████████████████▌  | 51kB 9.1MB/s eta 0:00:01\r\u001b[K     |████████████████████████████████| 61kB 4.6MB/s \n",
            "\u001b[?25hCollecting dawg-python>=0.7.1\n",
            "  Downloading https://files.pythonhosted.org/packages/6a/84/ff1ce2071d4c650ec85745766c0047ccc3b5036f1d03559fd46bb38b5eeb/DAWG_Python-0.7.2-py2.py3-none-any.whl\n",
            "Requirement already satisfied: docopt>=0.6 in /usr/local/lib/python3.6/dist-packages (from pymorphy2) (0.6.2)\n",
            "Collecting pymorphy2-dicts-ru<3.0,>=2.4\n",
            "\u001b[?25l  Downloading https://files.pythonhosted.org/packages/3a/79/bea0021eeb7eeefde22ef9e96badf174068a2dd20264b9a378f2be1cdd9e/pymorphy2_dicts_ru-2.4.417127.4579844-py2.py3-none-any.whl (8.2MB)\n",
            "\u001b[K     |████████████████████████████████| 8.2MB 11.2MB/s \n",
            "\u001b[?25hInstalling collected packages: dawg-python, pymorphy2-dicts-ru, pymorphy2\n",
            "Successfully installed dawg-python-0.7.2 pymorphy2-0.9.1 pymorphy2-dicts-ru-2.4.417127.4579844\n"
          ],
          "name": "stdout"
        }
      ]
    },
    {
      "cell_type": "code",
      "metadata": {
        "colab": {
          "base_uri": "https://localhost:8080/"
        },
        "id": "NmopE1T_92j1",
        "outputId": "c90a9040-f114-40f6-e80f-7030a1211fa0"
      },
      "source": [
        "import re\r\n",
        "\r\n",
        "import pandas as pd\r\n",
        "import pymorphy2\r\n",
        "\r\n",
        "\r\n",
        "from google.colab import drive\r\n",
        "from pathlib import Path\r\n",
        "drive.mount('/content/drive/')\r\n",
        "path = Path('/content/drive/')"
      ],
      "execution_count": 4,
      "outputs": [
        {
          "output_type": "stream",
          "text": [
            "Mounted at /content/drive/\n"
          ],
          "name": "stdout"
        }
      ]
    },
    {
      "cell_type": "code",
      "metadata": {
        "colab": {
          "base_uri": "https://localhost:8080/",
          "height": 202
        },
        "id": "YobnU-sG9pMY",
        "outputId": "a5c0f8ba-16d5-4ac2-afff-5fd0cd2f8989"
      },
      "source": [
        "text_df = pd.read_csv(\"/content/drive/MyDrive/Python/19_data/data-2/content_description.csv\", sep='\\t')\r\n",
        "text_df.head()"
      ],
      "execution_count": 5,
      "outputs": [
        {
          "output_type": "execute_result",
          "data": {
            "text/html": [
              "<div>\n",
              "<style scoped>\n",
              "    .dataframe tbody tr th:only-of-type {\n",
              "        vertical-align: middle;\n",
              "    }\n",
              "\n",
              "    .dataframe tbody tr th {\n",
              "        vertical-align: top;\n",
              "    }\n",
              "\n",
              "    .dataframe thead th {\n",
              "        text-align: right;\n",
              "    }\n",
              "</style>\n",
              "<table border=\"1\" class=\"dataframe\">\n",
              "  <thead>\n",
              "    <tr style=\"text-align: right;\">\n",
              "      <th></th>\n",
              "      <th>content</th>\n",
              "      <th>description</th>\n",
              "    </tr>\n",
              "  </thead>\n",
              "  <tbody>\n",
              "    <tr>\n",
              "      <th>0</th>\n",
              "      <td>https://www.ivi.ru/watch/157318/description</td>\n",
              "      <td>Лучший подарок, который только можно было прид...</td>\n",
              "    </tr>\n",
              "    <tr>\n",
              "      <th>1</th>\n",
              "      <td>https://www.ivi.ru/watch/98336/description</td>\n",
              "      <td>Через какие трудности приходится проходить Сан...</td>\n",
              "    </tr>\n",
              "    <tr>\n",
              "      <th>2</th>\n",
              "      <td>https://www.ivi.ru/watch/183533/description</td>\n",
              "      <td>Миловидный Давид - позор для своего отца. Не в...</td>\n",
              "    </tr>\n",
              "    <tr>\n",
              "      <th>3</th>\n",
              "      <td>https://www.ivi.ru/watch/157319/description</td>\n",
              "      <td>Экранизация сатирического бестселлера Стивена ...</td>\n",
              "    </tr>\n",
              "    <tr>\n",
              "      <th>4</th>\n",
              "      <td>https://www.ivi.ru/watch/51342/description</td>\n",
              "      <td>«Леди удача» – авантюрная романтическая комеди...</td>\n",
              "    </tr>\n",
              "  </tbody>\n",
              "</table>\n",
              "</div>"
            ],
            "text/plain": [
              "                                       content                                        description\n",
              "0  https://www.ivi.ru/watch/157318/description  Лучший подарок, который только можно было прид...\n",
              "1   https://www.ivi.ru/watch/98336/description  Через какие трудности приходится проходить Сан...\n",
              "2  https://www.ivi.ru/watch/183533/description  Миловидный Давид - позор для своего отца. Не в...\n",
              "3  https://www.ivi.ru/watch/157319/description  Экранизация сатирического бестселлера Стивена ...\n",
              "4   https://www.ivi.ru/watch/51342/description  «Леди удача» – авантюрная романтическая комеди..."
            ]
          },
          "metadata": {
            "tags": []
          },
          "execution_count": 5
        }
      ]
    },
    {
      "cell_type": "code",
      "metadata": {
        "colab": {
          "base_uri": "https://localhost:8080/"
        },
        "id": "QsKagkcRr2Ir",
        "outputId": "e60e29c4-b126-4020-c9ed-768dbea3bed4"
      },
      "source": [
        "print(text_df.loc[0, 'description'])"
      ],
      "execution_count": 6,
      "outputs": [
        {
          "output_type": "stream",
          "text": [
            "Лучший подарок, который только можно было придумать для всех поклонников культового сериала  – рождественский спецвыпуск «Шерлока», в котором абсолютно все будет особенным: и старинные костюмы, и дух викторианской Англии, и, конечно же, покрытая  мраком и завесой мистики тайна, которую предстоит разгадать гениальному сыщику. Кроме того, создатели сериала обещали оставить для самых внимательных поклонников «Шерлока» подсказки, связанные с содержанием четвертого сезона сериала.  Впервые герои современного сериала предстанут в своих «книжных» образах – Холмс с трубкой и в охотничьей шляпе, а Ватсон – с усами и в котелке. Действие перенесено в 1895 год. В центре сюжета загадочная история о призраке невесты, который наводит ужас на весь город. К Шерлоку за помощью обращается инспектор Лестрейд, который расследует дело об убийстве Томаса Риколетти. Жена Риколетти покончила с собой. Спустя некоторое время мистер Риколетти увидел супругу живой и в свадебном платье, после чего покойная Эмилия выстрелила в него. В чем же разгадка этой таинственной истории, можно смотреть онлайн в спецвыпуске «Шерлок Холмс. Безобразная невеста».\n"
          ],
          "name": "stdout"
        }
      ]
    },
    {
      "cell_type": "code",
      "metadata": {
        "colab": {
          "base_uri": "https://localhost:8080/",
          "height": 355
        },
        "id": "3RubHCBqrfs1",
        "outputId": "b48913fe-064d-41f3-e3bc-f6165f848cc5"
      },
      "source": [
        "# разбиваем тест на слова\r\n",
        "corpus = []\r\n",
        "# регулярка для поиска слов\r\n",
        "regular_expr = r'\\w+'\r\n",
        "reg_expr_compiled = re.compile(regular_expr)\r\n",
        "# формируем датасет из отдельных слов\r\n",
        "for raw_text in text_df.description.values:\r\n",
        "    # приводим к нижнему регистру\r\n",
        "    raw_text_lower = raw_text.lower()\r\n",
        "    # разбиваем текст на слова\r\n",
        "    text_by_words = reg_expr_compiled.findall(raw_text_lower) \r\n",
        "    corpus.append(text_by_words)\r\n",
        "\r\n",
        "# нормализация текста\r\n",
        "normalized_corpus = []\r\n",
        "morph = pymorphy2.MorphAnalyzer()\r\n",
        "# нормализуем каждое слово в тексте\r\n",
        "for token_list in corpus:\r\n",
        "    normalized_token_list = []\r\n",
        "    for word in token_list:\r\n",
        "        parsed_token = morph.parse(word)\r\n",
        "        normal_form = parsed_token[0].normal_form\r\n",
        "        normalized_token_list.append(normal_form)\r\n",
        "    normalized_corpus.append(normalized_token_list)\r\n",
        "\r\n",
        "# превращаем в DataFrame\r\n",
        "doc_count = len(normalized_corpus)\r\n",
        "doc_ids = []\r\n",
        "tokens = []\r\n",
        "# формируем два списка-колонки датафрейма\r\n",
        "for doc_id in range(doc_count):\r\n",
        "    for token in normalized_corpus[doc_id]:\r\n",
        "        doc_ids.append(doc_id)\r\n",
        "        tokens.append(token)\r\n",
        "\r\n",
        "tokens_df = pd.DataFrame({\r\n",
        "    'doc_id': doc_ids,\r\n",
        "    'word': tokens\r\n",
        "})\r\n",
        "# дамми-столбец\r\n",
        "tokens_df = tokens_df.assign(dummy = 1)\r\n",
        "# аггрегируем статистики\r\n",
        "word_count_df = tokens_df.groupby(['doc_id','word'])['dummy'].count().reset_index()\r\n",
        "\r\n",
        "word_count_df[word_count_df.doc_id==0].sort_values(by='dummy', ascending=False).tail(10)"
      ],
      "execution_count": 7,
      "outputs": [
        {
          "output_type": "execute_result",
          "data": {
            "text/html": [
              "<div>\n",
              "<style scoped>\n",
              "    .dataframe tbody tr th:only-of-type {\n",
              "        vertical-align: middle;\n",
              "    }\n",
              "\n",
              "    .dataframe tbody tr th {\n",
              "        vertical-align: top;\n",
              "    }\n",
              "\n",
              "    .dataframe thead th {\n",
              "        text-align: right;\n",
              "    }\n",
              "</style>\n",
              "<table border=\"1\" class=\"dataframe\">\n",
              "  <thead>\n",
              "    <tr style=\"text-align: right;\">\n",
              "      <th></th>\n",
              "      <th>doc_id</th>\n",
              "      <th>word</th>\n",
              "      <th>dummy</th>\n",
              "    </tr>\n",
              "  </thead>\n",
              "  <tbody>\n",
              "    <tr>\n",
              "      <th>45</th>\n",
              "      <td>0</td>\n",
              "      <td>на</td>\n",
              "      <td>1</td>\n",
              "    </tr>\n",
              "    <tr>\n",
              "      <th>44</th>\n",
              "      <td>0</td>\n",
              "      <td>мрак</td>\n",
              "      <td>1</td>\n",
              "    </tr>\n",
              "    <tr>\n",
              "      <th>42</th>\n",
              "      <td>0</td>\n",
              "      <td>мистика</td>\n",
              "      <td>1</td>\n",
              "    </tr>\n",
              "    <tr>\n",
              "      <th>41</th>\n",
              "      <td>0</td>\n",
              "      <td>мистер</td>\n",
              "      <td>1</td>\n",
              "    </tr>\n",
              "    <tr>\n",
              "      <th>40</th>\n",
              "      <td>0</td>\n",
              "      <td>лестрейд</td>\n",
              "      <td>1</td>\n",
              "    </tr>\n",
              "    <tr>\n",
              "      <th>39</th>\n",
              "      <td>0</td>\n",
              "      <td>культовый</td>\n",
              "      <td>1</td>\n",
              "    </tr>\n",
              "    <tr>\n",
              "      <th>38</th>\n",
              "      <td>0</td>\n",
              "      <td>кроме</td>\n",
              "      <td>1</td>\n",
              "    </tr>\n",
              "    <tr>\n",
              "      <th>36</th>\n",
              "      <td>0</td>\n",
              "      <td>котелок</td>\n",
              "      <td>1</td>\n",
              "    </tr>\n",
              "    <tr>\n",
              "      <th>35</th>\n",
              "      <td>0</td>\n",
              "      <td>костюм</td>\n",
              "      <td>1</td>\n",
              "    </tr>\n",
              "    <tr>\n",
              "      <th>114</th>\n",
              "      <td>0</td>\n",
              "      <td>этот</td>\n",
              "      <td>1</td>\n",
              "    </tr>\n",
              "  </tbody>\n",
              "</table>\n",
              "</div>"
            ],
            "text/plain": [
              "     doc_id       word  dummy\n",
              "45        0         на      1\n",
              "44        0       мрак      1\n",
              "42        0    мистика      1\n",
              "41        0     мистер      1\n",
              "40        0   лестрейд      1\n",
              "39        0  культовый      1\n",
              "38        0      кроме      1\n",
              "36        0    котелок      1\n",
              "35        0     костюм      1\n",
              "114       0       этот      1"
            ]
          },
          "metadata": {
            "tags": []
          },
          "execution_count": 7
        }
      ]
    },
    {
      "cell_type": "markdown",
      "metadata": {
        "id": "1E-xJyzM9lIS"
      },
      "source": [
        "# 10.3  Домашняя работа\n",
        "\n",
        "10.3.1 **Задание простого уровня** Для каждого слова подсчитайте процент документов, в которых содержится это слово. Сформируйте dataframe doc_frequency. Процент документов вычисляется по формуле\n",
        "$$\n",
        "d = \\frac{m}{n} \\times 100\n",
        "$$\n",
        "где $m$ - количество документов, в которых встретилось это слово, а $n$ - общее количество документов. Значение в процентах округлите до целых.\n",
        "\n",
        "Посмотрите какие слова оказались в топе - это предлоги и частицы. Такие слова присутствуют во всех документах, а значит, их можно удалить из текста, чтобы оставшиеся слова были более \"осмысленными\". Это упростит анализ текста."
      ]
    },
    {
      "cell_type": "code",
      "metadata": {
        "colab": {
          "base_uri": "https://localhost:8080/",
          "height": 415
        },
        "id": "SI3K9lA3t81K",
        "outputId": "ae5d18ec-c4cb-4c99-bb99-afb57af0aadb"
      },
      "source": [
        "doc_frequency = word_count_df.groupby('word')['doc_id'].count().reset_index(name='doc_freq').sort_values(by='doc_freq', ascending=False)\r\n",
        "doc_frequency.doc_freq /= float(doc_count)\r\n",
        "doc_frequency"
      ],
      "execution_count": 8,
      "outputs": [
        {
          "output_type": "execute_result",
          "data": {
            "text/html": [
              "<div>\n",
              "<style scoped>\n",
              "    .dataframe tbody tr th:only-of-type {\n",
              "        vertical-align: middle;\n",
              "    }\n",
              "\n",
              "    .dataframe tbody tr th {\n",
              "        vertical-align: top;\n",
              "    }\n",
              "\n",
              "    .dataframe thead th {\n",
              "        text-align: right;\n",
              "    }\n",
              "</style>\n",
              "<table border=\"1\" class=\"dataframe\">\n",
              "  <thead>\n",
              "    <tr style=\"text-align: right;\">\n",
              "      <th></th>\n",
              "      <th>word</th>\n",
              "      <th>doc_freq</th>\n",
              "    </tr>\n",
              "  </thead>\n",
              "  <tbody>\n",
              "    <tr>\n",
              "      <th>171</th>\n",
              "      <td>и</td>\n",
              "      <td>1.000</td>\n",
              "    </tr>\n",
              "    <tr>\n",
              "      <th>41</th>\n",
              "      <td>в</td>\n",
              "      <td>1.000</td>\n",
              "    </tr>\n",
              "    <tr>\n",
              "      <th>269</th>\n",
              "      <td>на</td>\n",
              "      <td>0.875</td>\n",
              "    </tr>\n",
              "    <tr>\n",
              "      <th>468</th>\n",
              "      <td>с</td>\n",
              "      <td>0.875</td>\n",
              "    </tr>\n",
              "    <tr>\n",
              "      <th>323</th>\n",
              "      <td>он</td>\n",
              "      <td>0.750</td>\n",
              "    </tr>\n",
              "    <tr>\n",
              "      <th>...</th>\n",
              "      <td>...</td>\n",
              "      <td>...</td>\n",
              "    </tr>\n",
              "    <tr>\n",
              "      <th>235</th>\n",
              "      <td>лишаться</td>\n",
              "      <td>0.125</td>\n",
              "    </tr>\n",
              "    <tr>\n",
              "      <th>236</th>\n",
              "      <td>лос</td>\n",
              "      <td>0.125</td>\n",
              "    </tr>\n",
              "    <tr>\n",
              "      <th>237</th>\n",
              "      <td>любить</td>\n",
              "      <td>0.125</td>\n",
              "    </tr>\n",
              "    <tr>\n",
              "      <th>238</th>\n",
              "      <td>любой</td>\n",
              "      <td>0.125</td>\n",
              "    </tr>\n",
              "    <tr>\n",
              "      <th>645</th>\n",
              "      <td>ёлка</td>\n",
              "      <td>0.125</td>\n",
              "    </tr>\n",
              "  </tbody>\n",
              "</table>\n",
              "<p>646 rows × 2 columns</p>\n",
              "</div>"
            ],
            "text/plain": [
              "         word  doc_freq\n",
              "171         и     1.000\n",
              "41          в     1.000\n",
              "269        на     0.875\n",
              "468         с     0.875\n",
              "323        он     0.750\n",
              "..        ...       ...\n",
              "235  лишаться     0.125\n",
              "236       лос     0.125\n",
              "237    любить     0.125\n",
              "238     любой     0.125\n",
              "645      ёлка     0.125\n",
              "\n",
              "[646 rows x 2 columns]"
            ]
          },
          "metadata": {
            "tags": []
          },
          "execution_count": 8
        }
      ]
    },
    {
      "cell_type": "code",
      "metadata": {
        "id": "3HsHSYjl9lIT",
        "colab": {
          "base_uri": "https://localhost:8080/",
          "height": 415
        },
        "outputId": "c3b543d2-9f63-4d2b-9163-ef4555442200"
      },
      "source": [
        "doc_frequency = word_count_df.groupby('word')['doc_id'].count().reset_index(name='doc_freq').sort_values(by='doc_freq', ascending=False)\n",
        "doc_frequency.doc_freq /= float(doc_count)\n",
        "doc_frequency"
      ],
      "execution_count": 9,
      "outputs": [
        {
          "output_type": "execute_result",
          "data": {
            "text/html": [
              "<div>\n",
              "<style scoped>\n",
              "    .dataframe tbody tr th:only-of-type {\n",
              "        vertical-align: middle;\n",
              "    }\n",
              "\n",
              "    .dataframe tbody tr th {\n",
              "        vertical-align: top;\n",
              "    }\n",
              "\n",
              "    .dataframe thead th {\n",
              "        text-align: right;\n",
              "    }\n",
              "</style>\n",
              "<table border=\"1\" class=\"dataframe\">\n",
              "  <thead>\n",
              "    <tr style=\"text-align: right;\">\n",
              "      <th></th>\n",
              "      <th>word</th>\n",
              "      <th>doc_freq</th>\n",
              "    </tr>\n",
              "  </thead>\n",
              "  <tbody>\n",
              "    <tr>\n",
              "      <th>171</th>\n",
              "      <td>и</td>\n",
              "      <td>1.000</td>\n",
              "    </tr>\n",
              "    <tr>\n",
              "      <th>41</th>\n",
              "      <td>в</td>\n",
              "      <td>1.000</td>\n",
              "    </tr>\n",
              "    <tr>\n",
              "      <th>269</th>\n",
              "      <td>на</td>\n",
              "      <td>0.875</td>\n",
              "    </tr>\n",
              "    <tr>\n",
              "      <th>468</th>\n",
              "      <td>с</td>\n",
              "      <td>0.875</td>\n",
              "    </tr>\n",
              "    <tr>\n",
              "      <th>323</th>\n",
              "      <td>он</td>\n",
              "      <td>0.750</td>\n",
              "    </tr>\n",
              "    <tr>\n",
              "      <th>...</th>\n",
              "      <td>...</td>\n",
              "      <td>...</td>\n",
              "    </tr>\n",
              "    <tr>\n",
              "      <th>235</th>\n",
              "      <td>лишаться</td>\n",
              "      <td>0.125</td>\n",
              "    </tr>\n",
              "    <tr>\n",
              "      <th>236</th>\n",
              "      <td>лос</td>\n",
              "      <td>0.125</td>\n",
              "    </tr>\n",
              "    <tr>\n",
              "      <th>237</th>\n",
              "      <td>любить</td>\n",
              "      <td>0.125</td>\n",
              "    </tr>\n",
              "    <tr>\n",
              "      <th>238</th>\n",
              "      <td>любой</td>\n",
              "      <td>0.125</td>\n",
              "    </tr>\n",
              "    <tr>\n",
              "      <th>645</th>\n",
              "      <td>ёлка</td>\n",
              "      <td>0.125</td>\n",
              "    </tr>\n",
              "  </tbody>\n",
              "</table>\n",
              "<p>646 rows × 2 columns</p>\n",
              "</div>"
            ],
            "text/plain": [
              "         word  doc_freq\n",
              "171         и     1.000\n",
              "41          в     1.000\n",
              "269        на     0.875\n",
              "468         с     0.875\n",
              "323        он     0.750\n",
              "..        ...       ...\n",
              "235  лишаться     0.125\n",
              "236       лос     0.125\n",
              "237    любить     0.125\n",
              "238     любой     0.125\n",
              "645      ёлка     0.125\n",
              "\n",
              "[646 rows x 2 columns]"
            ]
          },
          "metadata": {
            "tags": []
          },
          "execution_count": 9
        }
      ]
    },
    {
      "cell_type": "markdown",
      "metadata": {
        "id": "L1IiNBPB9lIT"
      },
      "source": [
        "10.3.2 **Задание среднего уровня**\n",
        "\n",
        "Воспользуйтесь регулярными выражениями, чтобы извлечь из текста все пары **имя+фамилия**.\n",
        "\n",
        "* неформальное описание регулярки: пара слов идущая друг за другом, каждое из которых начинается с заглавной буквы\n",
        "* анализировать нужно только `doc_id=3`\n",
        "* текст берём из исходного датафрейма `text_df`\n",
        "* заглавная буква в русскоязычном тексте соответствует символьному классу `r'[A-Я]*'`"
      ]
    },
    {
      "cell_type": "code",
      "metadata": {
        "id": "VIhCxdYq9lIU",
        "colab": {
          "base_uri": "https://localhost:8080/"
        },
        "outputId": "5477e22b-3c29-407a-8490-abc6dfc81732"
      },
      "source": [
        "# -- ВАШ КОД ЗДЕСЬ --\n",
        "raw_text = text_df.description.values[3]\n",
        "# регулярка - её нужно поправить\n",
        "reg_expr = r'[А-Я]\\w\\w*.[А-Я]\\w\\w\\w\\w*'\n",
        "# компилируем регулярное выражение\n",
        "reg_expr_compiled = re.compile(reg_expr)\n",
        "# применяем выражение к тексту\n",
        "for g in reg_expr_compiled.findall(raw_text):\n",
        "    print(g)"
      ],
      "execution_count": 11,
      "outputs": [
        {
          "output_type": "stream",
          "text": [
            "Стивена Фрая\n",
            "Джоном Дженксом\n",
            "Теда Уоллеса\n"
          ],
          "name": "stdout"
        }
      ]
    },
    {
      "cell_type": "markdown",
      "metadata": {
        "id": "bsJwgvbS9lIU"
      },
      "source": [
        "10.3.3 **Задание сложного уровня**. Словарь `genre_dict` содержит слова, которые являются характерными для того или иного жанра. Пользуясь словарём, а так же таблицей `word_count_df`, сформируйте таблицу двумя колонками `doc_id | genre` с жанрами фильмов.\n",
        "\n",
        "Для этого нужно\n",
        "* превратить словарь `genre_dict` в DataFrame формата `word | genre`\n",
        "* соединить полученный датафрейм с помощью функции `merge` c ранее полученным датафреймом `word_count_df`, котороый содержит распределение слов по документам. Воспользуйтесь методом соединения `inner`\n",
        "* для каждого документа выбрать жанр документа - это совокупность жанров слов отдельных слов. У одного контента может быть несколько жанров"
      ]
    },
    {
      "cell_type": "code",
      "metadata": {
        "id": "P4K14_eA9lIU",
        "colab": {
          "base_uri": "https://localhost:8080/",
          "height": 263
        },
        "outputId": "bf5aee12-2853-460c-d107-b8568de10669"
      },
      "source": [
        "import itertools\n",
        "import pandas as pd\n",
        "\n",
        "genre_dict = {\n",
        "    'комедия': ['сатирический', 'авантюрный', 'забавный'],\n",
        "    'мелодрама': ['выбор', 'позор'],\n",
        "    'сказка': ['приключения', 'милый', 'семейный'],\n",
        "    'детектив': ['тайна', 'разгадать', 'загадочный'], \n",
        "    'триллер': ['ужас', 'зловещий', 'нерв']\n",
        "}\n",
        "\n",
        "nested_genres =[[(i, j) for j in genre_dict[i]] for i in genre_dict]\n",
        "# переводим из словаря к более удобному виду\n",
        "flatten_genres = list(itertools.chain(*nested_genres))\n",
        "# создаём DataFrame\n",
        "genres_df = pd.DataFrame(flatten_genres, columns = ['genre', 'character_word'])\n",
        "\n",
        "# -- ВАШ КОД ЗДЕСЬ --\n",
        "genres_df = genres_df.merge(word_count_df, left_on=\"character_word\", right_on='word').drop(['word', 'character_word', 'dummy'], axis=1)\n",
        "genres_df = genres_df.drop_duplicates()\n",
        "genres_df"
      ],
      "execution_count": 12,
      "outputs": [
        {
          "output_type": "execute_result",
          "data": {
            "text/html": [
              "<div>\n",
              "<style scoped>\n",
              "    .dataframe tbody tr th:only-of-type {\n",
              "        vertical-align: middle;\n",
              "    }\n",
              "\n",
              "    .dataframe tbody tr th {\n",
              "        vertical-align: top;\n",
              "    }\n",
              "\n",
              "    .dataframe thead th {\n",
              "        text-align: right;\n",
              "    }\n",
              "</style>\n",
              "<table border=\"1\" class=\"dataframe\">\n",
              "  <thead>\n",
              "    <tr style=\"text-align: right;\">\n",
              "      <th></th>\n",
              "      <th>genre</th>\n",
              "      <th>doc_id</th>\n",
              "    </tr>\n",
              "  </thead>\n",
              "  <tbody>\n",
              "    <tr>\n",
              "      <th>0</th>\n",
              "      <td>комедия</td>\n",
              "      <td>3</td>\n",
              "    </tr>\n",
              "    <tr>\n",
              "      <th>1</th>\n",
              "      <td>комедия</td>\n",
              "      <td>4</td>\n",
              "    </tr>\n",
              "    <tr>\n",
              "      <th>3</th>\n",
              "      <td>мелодрама</td>\n",
              "      <td>2</td>\n",
              "    </tr>\n",
              "    <tr>\n",
              "      <th>5</th>\n",
              "      <td>сказка</td>\n",
              "      <td>1</td>\n",
              "    </tr>\n",
              "    <tr>\n",
              "      <th>6</th>\n",
              "      <td>детектив</td>\n",
              "      <td>0</td>\n",
              "    </tr>\n",
              "    <tr>\n",
              "      <th>9</th>\n",
              "      <td>триллер</td>\n",
              "      <td>0</td>\n",
              "    </tr>\n",
              "    <tr>\n",
              "      <th>10</th>\n",
              "      <td>триллер</td>\n",
              "      <td>6</td>\n",
              "    </tr>\n",
              "  </tbody>\n",
              "</table>\n",
              "</div>"
            ],
            "text/plain": [
              "        genre  doc_id\n",
              "0     комедия       3\n",
              "1     комедия       4\n",
              "3   мелодрама       2\n",
              "5      сказка       1\n",
              "6    детектив       0\n",
              "9     триллер       0\n",
              "10    триллер       6"
            ]
          },
          "metadata": {
            "tags": []
          },
          "execution_count": 12
        }
      ]
    }
  ]
}