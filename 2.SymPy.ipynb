{
  "nbformat": 4,
  "nbformat_minor": 0,
  "metadata": {
    "colab": {
      "name": "2.ipynb",
      "provenance": [],
      "collapsed_sections": []
    },
    "kernelspec": {
      "name": "python3",
      "display_name": "Python 3"
    },
    "language_info": {
      "name": "python"
    }
  },
  "cells": [
    {
      "cell_type": "code",
      "metadata": {
        "id": "vzjO3O29OyZg"
      },
      "source": [
        "from sympy import *\n",
        "import math\n",
        "init_printing(use_unicode = False, no_global = True)"
      ],
      "execution_count": null,
      "outputs": []
    },
    {
      "cell_type": "markdown",
      "metadata": {
        "id": "7Y94Ys8TO1is"
      },
      "source": [
        "***Задание 1***"
      ]
    },
    {
      "cell_type": "code",
      "metadata": {
        "colab": {
          "base_uri": "https://localhost:8080/",
          "height": 37
        },
        "id": "bLimswh8O2u3",
        "outputId": "39b9136c-2a5d-43ff-c1be-fa4cdfeeb110"
      },
      "source": [
        "expression1 = ((13**0.5 + 7**0.5)**2)/(10 + 91**0.5)\n",
        "expression1"
      ],
      "execution_count": null,
      "outputs": [
        {
          "output_type": "execute_result",
          "data": {
            "image/png": "[encoded data removed]",
            "text/latex": "$\\displaystyle 2.0$",
            "text/plain": [
              "1.9999999999999996"
            ]
          },
          "metadata": {
            "tags": []
          },
          "execution_count": 3
        }
      ]
    },
    {
      "cell_type": "markdown",
      "metadata": {
        "id": "qRJuzVvCO3p_"
      },
      "source": [
        "***Задание 2***"
      ]
    },
    {
      "cell_type": "code",
      "metadata": {
        "id": "kSjo_VT9O6UH",
        "colab": {
          "base_uri": "https://localhost:8080/",
          "height": 37
        },
        "outputId": "3e9dcbab-fe8f-40ff-d311-c42405e75951"
      },
      "source": [
        "b = 10**5\n",
        "result = math.log10(10/(b**3))\n",
        "result"
      ],
      "execution_count": null,
      "outputs": [
        {
          "output_type": "execute_result",
          "data": {
            "image/png": "[encoded data removed]",
            "text/latex": "$\\displaystyle -14.0$",
            "text/plain": [
              "-14.0"
            ]
          },
          "metadata": {
            "tags": []
          },
          "execution_count": 14
        }
      ]
    },
    {
      "cell_type": "markdown",
      "metadata": {
        "id": "TPIDXq5-O6mN"
      },
      "source": [
        "***Задание 3***"
      ]
    },
    {
      "cell_type": "code",
      "metadata": {
        "id": "b8JLKsweO83d",
        "colab": {
          "base_uri": "https://localhost:8080/",
          "height": 39
        },
        "outputId": "8bbc17b7-eb79-4cda-fc62-bb050a6224f0"
      },
      "source": [
        "a = Symbol('a')\n",
        "2*a*(a**(4/3)) * 3*(a**(2/3))"
      ],
      "execution_count": null,
      "outputs": [
        {
          "output_type": "execute_result",
          "data": {
            "image/png": "[encoded data removed]",
            "text/latex": "$\\displaystyle 6 a^{3.0}$",
            "text/plain": [
              "   3.0\n",
              "6*a   "
            ]
          },
          "metadata": {
            "tags": []
          },
          "execution_count": 9
        }
      ]
    },
    {
      "cell_type": "code",
      "metadata": {
        "colab": {
          "base_uri": "https://localhost:8080/",
          "height": 39
        },
        "id": "P1ygV9rNPL-S",
        "outputId": "fb7ea5a7-f5cd-4d9c-fb1f-0f1e3d3697de"
      },
      "source": [
        "powdenest(2*a*(a**4)**(1/3) * 3*(a**2)**(1/3), force = True)"
      ],
      "execution_count": null,
      "outputs": [
        {
          "output_type": "execute_result",
          "data": {
            "image/png": "[encoded data removed]",
            "text/latex": "$\\displaystyle 6 a^{3.0}$",
            "text/plain": [
              "   3.0\n",
              "6*a   "
            ]
          },
          "metadata": {
            "tags": []
          },
          "execution_count": 16
        }
      ]
    },
    {
      "cell_type": "markdown",
      "metadata": {
        "id": "gLH06G2zO9J0"
      },
      "source": [
        "***Задание 4***"
      ]
    },
    {
      "cell_type": "code",
      "metadata": {
        "colab": {
          "base_uri": "https://localhost:8080/"
        },
        "id": "Zd6J43HrO-k5",
        "outputId": "6b5a601f-5847-4172-b5a4-5cc53ee66542"
      },
      "source": [
        "s = 0.0\n",
        "n = int(input('Введите числа через запятую: '))\n",
        "for n in range(1, n+1):\n",
        "  s = s + math.log(n)\n",
        "print(s)"
      ],
      "execution_count": null,
      "outputs": [
        {
          "output_type": "stream",
          "text": [
            "Введите числа через запятую: 7\n",
            "8.525161361065415\n"
          ],
          "name": "stdout"
        }
      ]
    },
    {
      "cell_type": "markdown",
      "metadata": {
        "id": "1IdnwR9FUHQI"
      },
      "source": [
        "***Задание 5***"
      ]
    },
    {
      "cell_type": "code",
      "metadata": {
        "colab": {
          "base_uri": "https://localhost:8080/",
          "height": 55
        },
        "id": "EGLqDcdFUJvh",
        "outputId": "ade11a9e-40ff-4b84-be53-46d5db3fe14d"
      },
      "source": [
        "s = 1\n",
        "loga = 0.0\n",
        "n = int(input('Введите числа через запятую: '))\n",
        "for n in range(2, n+1):\n",
        "  s = s * n\n",
        "math.log(s)"
      ],
      "execution_count": null,
      "outputs": [
        {
          "output_type": "stream",
          "text": [
            "Введите числа через запятую: 7\n"
          ],
          "name": "stdout"
        },
        {
          "output_type": "execute_result",
          "data": {
            "image/png": "[encoded data removed]",
            "text/latex": "$\\displaystyle 8.52516136106541$",
            "text/plain": [
              "8.525161361065415"
            ]
          },
          "metadata": {
            "tags": []
          },
          "execution_count": 30
        }
      ]
    },
    {
      "cell_type": "markdown",
      "metadata": {
        "id": "sL7xo9NzUvoN"
      },
      "source": [
        "***Задание 6***\n",
        "\n",
        "Логарифм произведения положительных чисел равен сумме логарифмов \n",
        "сомножителей."
      ]
    },
    {
      "cell_type": "markdown",
      "metadata": {
        "id": "RJTPqaVBXXl5"
      },
      "source": [
        "***Сложный уровень***\n",
        "\n",
        "\n",
        "***Задание 1***"
      ]
    },
    {
      "cell_type": "code",
      "metadata": {
        "colab": {
          "base_uri": "https://localhost:8080/",
          "height": 37
        },
        "id": "ceoMJ8b_XRZu",
        "outputId": "da3a460e-f8e8-4bea-ce94-e56dcaac54e4"
      },
      "source": [
        "a = Symbol('a')\n",
        "expression11 = (15*((a**(1/28))**(1/5)) - 7*((a**(1/20))**(1/7))) / (2*((a**(1/4))**(1/35)))\n",
        "expression11"
      ],
      "execution_count": null,
      "outputs": [
        {
          "output_type": "execute_result",
          "data": {
            "image/png": "[encoded data removed]",
            "text/latex": "$\\displaystyle 4$",
            "text/plain": [
              "4"
            ]
          },
          "metadata": {
            "tags": []
          },
          "execution_count": 37
        }
      ]
    },
    {
      "cell_type": "markdown",
      "metadata": {
        "id": "Qzz73DGvZkJo"
      },
      "source": [
        "***Задание 2***"
      ]
    },
    {
      "cell_type": "code",
      "metadata": {
        "id": "RxKVkxGmZlA1",
        "colab": {
          "base_uri": "https://localhost:8080/",
          "height": 37
        },
        "outputId": "733cbff4-91b4-4ee6-aa1d-b316c064ca20"
      },
      "source": [
        "x = Symbol('x') \n",
        "q = (x*(4-x))**(1/3)\n",
        "q.subs(x, 2)"
      ],
      "execution_count": null,
      "outputs": [
        {
          "output_type": "execute_result",
          "data": {
            "image/png": "[encoded data removed]",
            "text/latex": "$\\displaystyle 1.5874010519682$",
            "text/plain": [
              "1.58740105196820"
            ]
          },
          "metadata": {
            "tags": []
          },
          "execution_count": 24
        }
      ]
    },
    {
      "cell_type": "code",
      "metadata": {
        "colab": {
          "base_uri": "https://localhost:8080/",
          "height": 37
        },
        "id": "vxLUmRlq8ifE",
        "outputId": "7e22658c-f645-474f-f8a7-31f844fc876f"
      },
      "source": [
        "y = Symbol('y') \n",
        "y = (q.subs(x, 2-x)) / (q.subs(x, 2+x))\n",
        "y"
      ],
      "execution_count": null,
      "outputs": [
        {
          "output_type": "execute_result",
          "data": {
            "image/png": "[encoded data removed]",
            "text/latex": "$\\displaystyle 1$",
            "text/plain": [
              "1"
            ]
          },
          "metadata": {
            "tags": []
          },
          "execution_count": 29
        }
      ]
    },
    {
      "cell_type": "markdown",
      "metadata": {
        "id": "vJC_ZxK8JAZv"
      },
      "source": [
        "***Задание 3***\n"
      ]
    },
    {
      "cell_type": "code",
      "metadata": {
        "colab": {
          "base_uri": "https://localhost:8080/",
          "height": 37
        },
        "id": "SZ5rL7hZJDeo",
        "outputId": "734aff28-ba15-49c2-aecb-09b2e775ceea"
      },
      "source": [
        "x = Symbol('x')\n",
        "((2*x**3)**4 - (x**2)**6) / (3*x**12)"
      ],
      "execution_count": null,
      "outputs": [
        {
          "output_type": "execute_result",
          "data": {
            "image/png": "[encoded data removed]",
            "text/latex": "$\\displaystyle 5$",
            "text/plain": [
              "5"
            ]
          },
          "metadata": {
            "tags": []
          },
          "execution_count": 4
        }
      ]
    },
    {
      "cell_type": "markdown",
      "metadata": {
        "id": "ov5dXN0hJiOX"
      },
      "source": [
        "***Задание 4***"
      ]
    },
    {
      "cell_type": "code",
      "metadata": {
        "colab": {
          "base_uri": "https://localhost:8080/",
          "height": 51
        },
        "id": "kzfAycCHJjB5",
        "outputId": "9c0ccb82-cac8-4c89-ba12-1ab44a8e6c71"
      },
      "source": [
        "a = Symbol('a')\n",
        "b = Symbol('b')\n",
        "expr = ((11*(a**6)*(b**3)) - (3*(a**2)*b)**3) / (4*(a**6)*(b**6))\n",
        "expr"
      ],
      "execution_count": null,
      "outputs": [
        {
          "output_type": "execute_result",
          "data": {
            "image/png": "[encoded data removed]",
            "text/latex": "$\\displaystyle - \\frac{4}{b^{3}}$",
            "text/plain": [
              "-4 \n",
              "---\n",
              "  3\n",
              " b "
            ]
          },
          "metadata": {
            "tags": []
          },
          "execution_count": 13
        }
      ]
    },
    {
      "cell_type": "code",
      "metadata": {
        "colab": {
          "base_uri": "https://localhost:8080/",
          "height": 51
        },
        "id": "73Yw4lTst_oo",
        "outputId": "39299992-5404-4922-f9b0-3a0883873a1b"
      },
      "source": [
        "expr.subs(b, 2)"
      ],
      "execution_count": null,
      "outputs": [
        {
          "output_type": "execute_result",
          "data": {
            "image/png": "[encoded data removed]",
            "text/latex": "$\\displaystyle - \\frac{1}{2}$",
            "text/plain": [
              "-1/2"
            ]
          },
          "metadata": {
            "tags": []
          },
          "execution_count": 14
        }
      ]
    }
  ]
}