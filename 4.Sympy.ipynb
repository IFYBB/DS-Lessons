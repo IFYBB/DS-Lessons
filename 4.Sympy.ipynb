{
 "cells": [
  {
   "cell_type": "markdown",
   "metadata": {
    "id": "yyo73hwFEoJt"
   },
   "source": [
    "## Преобразования функций и полиномы. Домашнее задание\n",
    "\n",
    "С помощью SymPy найдите полиномы, описывающие данные наборы точек. Затем проведите полное исследование каждого полученного полинома: проверьте четность/нечетность, найдите нули, промежутки знакопостоянства. Постройте их графики. С помощью изменения промежутка для х добейтесь того, чтобы все нули были отображены на графике функции.<br><br>\n",
    "Средний уровень <br><br>\n",
    "$(-2, 2), (-1, 1), (0, 0), (1, 1), (2, 2)$<br><br>\n",
    "Сложный уровень <br><br>\n",
    "$(-3, 33), (-2, 31), (-1, 18), (1, -18), (2, -31), (3, -33)$\n"
   ]
  },
  {
   "cell_type": "code",
   "execution_count": 46,
   "metadata": {
    "id": "bVBLXKfjEiEA"
   },
   "outputs": [
    {
     "data": {
      "image/png": "[encoded data removed]",
      "text/latex": [
       "$\\displaystyle \\left\\{\\left( - \\frac{1}{6}, \\  0, \\  \\frac{7}{6}, \\  0, \\  0\\right)\\right\\}$"
      ],
      "text/plain": [
       "{(-1/6, 0, 7/6, 0, 0)}"
      ]
     },
     "execution_count": 46,
     "metadata": {},
     "output_type": "execute_result"
    }
   ],
   "source": [
    "import numpy as np\n",
    "import matplotlib.pyplot as plt\n",
    "from sympy import *\n",
    "from sympy.plotting import plot\n",
    "from sympy.solvers.inequalities import solve_univariate_inequality\n",
    "init_printing(use_unicode=False, wrap_line=False, no_global=True)\n",
    "\n",
    "a4, a3, a2, a1, a0 = symbols('a4,a3,a2,a1,a0')\n",
    "\n",
    "eq1_lp = 16*a4 - 8*a3 + 4*a2 -2*a1 + a0 - 2\n",
    "eq2_lp = a4 - a3 + a2 - a1 + a0 - 1\n",
    "eq3_lp = a0\n",
    "eq4_lp = a4 + a3 + a2 + a1 + a0 - 1\n",
    "eq5_lp = 16*a4 + 8*a3 + 4*a2 +2*a1 + a0 - 2\n",
    "\n",
    "nonlinsolve([eq1_lp, eq2_lp, eq3_lp, eq4_lp, eq5_lp], [a4, a3, a2, a1, a0])"
   ]
  },
  {
   "cell_type": "code",
   "execution_count": 47,
   "metadata": {},
   "outputs": [],
   "source": [
    "x = Symbol('x')\n",
    "f = -(1/6)*x**4 + (7/6)*x**2"
   ]
  },
  {
   "cell_type": "code",
   "execution_count": 27,
   "metadata": {},
   "outputs": [
    {
     "data": {
      "image/png": "[encoded data removed]",
      "text/latex": [
       "$\\displaystyle 2.0$"
      ],
      "text/plain": [
       "2.00000000000000"
      ]
     },
     "execution_count": 27,
     "metadata": {},
     "output_type": "execute_result"
    }
   ],
   "source": [
    "f.subs(x, -2)"
   ]
  },
  {
   "cell_type": "code",
   "execution_count": 28,
   "metadata": {},
   "outputs": [
    {
     "data": {
      "image/png": "[encoded data removed]",
      "text/latex": [
       "$\\displaystyle 1.0$"
      ],
      "text/plain": [
       "1.00000000000000"
      ]
     },
     "execution_count": 28,
     "metadata": {},
     "output_type": "execute_result"
    }
   ],
   "source": [
    "f.subs(x, -1)"
   ]
  },
  {
   "cell_type": "code",
   "execution_count": 34,
   "metadata": {},
   "outputs": [
    {
     "data": {
      "image/png": "[encoded data removed]",
      "text/latex": [
       "$\\displaystyle 0$"
      ],
      "text/plain": [
       "0"
      ]
     },
     "execution_count": 34,
     "metadata": {},
     "output_type": "execute_result"
    }
   ],
   "source": [
    "f.subs(x, 0)"
   ]
  },
  {
   "cell_type": "code",
   "execution_count": 48,
   "metadata": {},
   "outputs": [
    {
     "data": {
      "image/png": "[encoded data removed]",
      "text/latex": [
       "$\\displaystyle -1550.0$"
      ],
      "text/plain": [
       "-1550.00000000000"
      ]
     },
     "execution_count": 48,
     "metadata": {},
     "output_type": "execute_result"
    }
   ],
   "source": [
    "f.subs(x, -10)"
   ]
  },
  {
   "cell_type": "code",
   "execution_count": 49,
   "metadata": {},
   "outputs": [
    {
     "data": {
      "image/png": "[encoded data removed]",
      "text/latex": [
       "$\\displaystyle -1550.0$"
      ],
      "text/plain": [
       "-1550.00000000000"
      ]
     },
     "execution_count": 49,
     "metadata": {},
     "output_type": "execute_result"
    }
   ],
   "source": [
    "f.subs(x, 10)"
   ]
  },
  {
   "cell_type": "markdown",
   "metadata": {},
   "source": [
    "***Вывод***: функция $-(1/6)x^4 + (7/6)x^2$ - четная.\n",
    "\n",
    "Найдем нули функции $-(1/6)x^4 + (7/6)x^2$:"
   ]
  },
  {
   "cell_type": "code",
   "execution_count": 38,
   "metadata": {},
   "outputs": [
    {
     "data": {
      "image/png": "[encoded data removed]",
      "text/latex": [
       "$\\displaystyle \\left[ -2.64575131106459, \\  0.0, \\  2.64575131106459\\right]$"
      ],
      "text/plain": [
       "[-2.64575131106459, 0.0, 2.64575131106459]"
      ]
     },
     "execution_count": 38,
     "metadata": {},
     "output_type": "execute_result"
    }
   ],
   "source": [
    "solve(f)"
   ]
  },
  {
   "cell_type": "code",
   "execution_count": 40,
   "metadata": {},
   "outputs": [
    {
     "data": {
      "image/png": "[encoded data removed]",
      "text/latex": [
       "$\\displaystyle \\left(-2.64575131106459 < x \\wedge x < 0\\right) \\vee \\left(0 < x \\wedge x < 2.64575131106459\\right)$"
      ],
      "text/plain": [
       "Or(And(-2.64575131106459 < x, x < 0), And(0 < x, x < 2.64575131106459))"
      ]
     },
     "execution_count": 40,
     "metadata": {},
     "output_type": "execute_result"
    }
   ],
   "source": [
    "# Функция больше нуля:\n",
    "\n",
    "solve_univariate_inequality(f>0, x)"
   ]
  },
  {
   "cell_type": "code",
   "execution_count": 41,
   "metadata": {},
   "outputs": [
    {
     "data": {
      "image/png": "[encoded data removed]",
      "text/latex": [
       "$\\displaystyle \\left(-\\infty < x \\wedge x < -2.64575131106459\\right) \\vee \\left(2.64575131106459 < x \\wedge x < \\infty\\right)$"
      ],
      "text/plain": [
       "Or(And(-oo < x, x < -2.64575131106459), And(2.64575131106459 < x, x < oo))"
      ]
     },
     "execution_count": 41,
     "metadata": {},
     "output_type": "execute_result"
    }
   ],
   "source": [
    "# Функция меньше нуля:\n",
    "\n",
    "solve_univariate_inequality(f<0, x)"
   ]
  },
  {
   "cell_type": "code",
   "execution_count": 52,
   "metadata": {},
   "outputs": [
    {
     "data": {
      "image/png": "[encoded data removed]",
      "text/plain": [
       "<Figure size 432x288 with 1 Axes>"
      ]
     },
     "metadata": {
      "needs_background": "light"
     },
     "output_type": "display_data"
    },
    {
     "data": {
      "text/plain": [
       "<sympy.plotting.plot.Plot at 0x262ac367df0>"
      ]
     },
     "execution_count": 52,
     "metadata": {},
     "output_type": "execute_result"
    }
   ],
   "source": [
    "plot(f, (x, -4.0, 4.0))"
   ]
  },
  {
   "cell_type": "code",
   "execution_count": 53,
   "metadata": {},
   "outputs": [],
   "source": [
    "a5, a4, a3, a2, a1, a0 = symbols('a5,a4,a3,a2,a1,a0')"
   ]
  },
  {
   "cell_type": "code",
   "execution_count": 54,
   "metadata": {},
   "outputs": [],
   "source": [
    "eq1_lp = -243*a5 + 81*a4 - 27*a3 + 9*a2 - 3*a1 + a0 - 33\n",
    "eq2_lp = -32*a5 + 16*a4 - 8*a3 + 4*a2 - 2*a1 + a0 - 31\n",
    "eq3_lp = -a5 + a4 - a3 + a2 - a1 + a0 - 18 \n",
    "eq4_lp = a5 + a4 + a3 + a2 + a1 + a0 + 18 \n",
    "eq5_lp = 32*a5 + 16*a4 + 8*a3 + 4*a2 + 2*a1 + a0 + 31\n",
    "eq6_lp = 243*a5 + 81*a4 + 27*a3 + 9*a2 + 3*a1 + a0 + 33"
   ]
  },
  {
   "cell_type": "code",
   "execution_count": 56,
   "metadata": {},
   "outputs": [
    {
     "data": {
      "image/png": "[encoded data removed]",
      "text/latex": [
       "$\\displaystyle \\left\\{\\left( \\frac{1}{120}, \\  0, \\  \\frac{19}{24}, \\  0, \\  - \\frac{94}{5}, \\  0\\right)\\right\\}$"
      ],
      "text/plain": [
       "            19               \n",
       "{(1/120, 0, --, 0, -94/5, 0)}\n",
       "            24               "
      ]
     },
     "execution_count": 56,
     "metadata": {},
     "output_type": "execute_result"
    }
   ],
   "source": [
    "nonlinsolve([eq1_lp, eq2_lp, eq3_lp, eq4_lp, eq5_lp, eq6_lp], [a5, a4, a3, a2, a1, a0])"
   ]
  },
  {
   "cell_type": "code",
   "execution_count": 59,
   "metadata": {},
   "outputs": [],
   "source": [
    "x = Symbol('x')\n",
    "f = (1/120)*x**5 + (19/24)*x**3 - (94/5)*x"
   ]
  },
  {
   "cell_type": "code",
   "execution_count": 60,
   "metadata": {},
   "outputs": [
    {
     "data": {
      "image/png": "[encoded data removed]",
      "text/latex": [
       "$\\displaystyle 33.0$"
      ],
      "text/plain": [
       "33.0000000000000"
      ]
     },
     "execution_count": 60,
     "metadata": {},
     "output_type": "execute_result"
    }
   ],
   "source": [
    "f.subs(x, -3)"
   ]
  },
  {
   "cell_type": "code",
   "execution_count": 61,
   "metadata": {},
   "outputs": [
    {
     "data": {
      "image/png": "[encoded data removed]",
      "text/latex": [
       "$\\displaystyle 31.0$"
      ],
      "text/plain": [
       "31.0000000000000"
      ]
     },
     "execution_count": 61,
     "metadata": {},
     "output_type": "execute_result"
    }
   ],
   "source": [
    "f.subs(x, -2)"
   ]
  },
  {
   "cell_type": "code",
   "execution_count": 62,
   "metadata": {},
   "outputs": [
    {
     "data": {
      "image/png": "[encoded data removed]",
      "text/latex": [
       "$\\displaystyle 18.0$"
      ],
      "text/plain": [
       "18.0000000000000"
      ]
     },
     "execution_count": 62,
     "metadata": {},
     "output_type": "execute_result"
    }
   ],
   "source": [
    "f.subs(x, -1)"
   ]
  },
  {
   "cell_type": "code",
   "execution_count": 67,
   "metadata": {},
   "outputs": [
    {
     "data": {
      "image/png": "[encoded data removed]",
      "text/latex": [
       "$\\displaystyle -18.0$"
      ],
      "text/plain": [
       "-18.0000000000000"
      ]
     },
     "execution_count": 67,
     "metadata": {},
     "output_type": "execute_result"
    }
   ],
   "source": [
    "f.subs(x, 1)"
   ]
  },
  {
   "cell_type": "code",
   "execution_count": 66,
   "metadata": {},
   "outputs": [
    {
     "data": {
      "image/png": "[encoded data removed]",
      "text/latex": [
       "$\\displaystyle -31.0$"
      ],
      "text/plain": [
       "-31.0000000000000"
      ]
     },
     "execution_count": 66,
     "metadata": {},
     "output_type": "execute_result"
    }
   ],
   "source": [
    "f.subs(x, 2)"
   ]
  },
  {
   "cell_type": "code",
   "execution_count": 65,
   "metadata": {},
   "outputs": [
    {
     "data": {
      "image/png": "[encoded data removed]",
      "text/latex": [
       "$\\displaystyle -33.0$"
      ],
      "text/plain": [
       "-33.0000000000000"
      ]
     },
     "execution_count": 65,
     "metadata": {},
     "output_type": "execute_result"
    }
   ],
   "source": [
    "f.subs(x, 3)"
   ]
  },
  {
   "cell_type": "markdown",
   "metadata": {},
   "source": [
    "***Вывод***: функция $(1/120)x^5 + (19/24)x^3 - (94/5)x$ - четная.\n",
    "\n",
    "Найдем нули функции $(1/120)x^5 + (19/24)x^3 - (94/5)x$:"
   ]
  },
  {
   "cell_type": "code",
   "execution_count": 68,
   "metadata": {},
   "outputs": [
    {
     "data": {
      "image/png": "[encoded data removed]",
      "text/latex": [
       "$\\displaystyle \\left[ -4.43545751638198, \\  0.0, \\  4.43545751638198, \\  - 10.7085612189327 i, \\  10.7085612189327 i\\right]$"
      ],
      "text/plain": [
       "[-4.43545751638198, 0.0, 4.43545751638198, -10.7085612189327*I, 10.7085612189327*I]"
      ]
     },
     "execution_count": 68,
     "metadata": {},
     "output_type": "execute_result"
    }
   ],
   "source": [
    "solve(f)"
   ]
  },
  {
   "cell_type": "markdown",
   "metadata": {},
   "source": [
    "Обращаем внимание, что два из пяти нулей функции - мнимые."
   ]
  },
  {
   "cell_type": "code",
   "execution_count": 69,
   "metadata": {},
   "outputs": [
    {
     "data": {
      "image/png": "[encoded data removed]",
      "text/latex": [
       "$\\displaystyle \\left(-4.43545751638198 < x \\wedge x < 0\\right) \\vee \\left(4.43545751638198 < x \\wedge x < \\infty\\right)$"
      ],
      "text/plain": [
       "Or(And(-4.43545751638198 < x, x < 0), And(4.43545751638198 < x, x < oo))"
      ]
     },
     "execution_count": 69,
     "metadata": {},
     "output_type": "execute_result"
    }
   ],
   "source": [
    "# Функция больше нуля:\n",
    "\n",
    "solve_univariate_inequality(f>0, x)"
   ]
  },
  {
   "cell_type": "code",
   "execution_count": 70,
   "metadata": {},
   "outputs": [
    {
     "data": {
      "image/png": "[encoded data removed]",
      "text/latex": [
       "$\\displaystyle \\left(-\\infty < x \\wedge x < -4.43545751638198\\right) \\vee \\left(0 < x \\wedge x < 4.43545751638198\\right)$"
      ],
      "text/plain": [
       "Or(And(-oo < x, x < -4.43545751638198), And(0 < x, x < 4.43545751638198))"
      ]
     },
     "execution_count": 70,
     "metadata": {},
     "output_type": "execute_result"
    }
   ],
   "source": [
    "# Функция меньше нуля:\n",
    "\n",
    "solve_univariate_inequality(f<0, x)"
   ]
  },
  {
   "cell_type": "code",
   "execution_count": 72,
   "metadata": {},
   "outputs": [
    {
     "data": {
      "image/png": "[encoded data removed]",
      "text/plain": [
       "<Figure size 432x288 with 1 Axes>"
      ]
     },
     "metadata": {
      "needs_background": "light"
     },
     "output_type": "display_data"
    },
    {
     "data": {
      "text/plain": [
       "<sympy.plotting.plot.Plot at 0x262ac5790d0>"
      ]
     },
     "execution_count": 72,
     "metadata": {},
     "output_type": "execute_result"
    }
   ],
   "source": [
    "plot(f, (x, -6.0, 6.0))"
   ]
  }
 ],
 "metadata": {
  "colab": {
   "collapsed_sections": [],
   "name": "Преобразования функций и полиномы. Домашнее задание.ipynb",
   "provenance": []
  },
  "kernelspec": {
   "display_name": "Python 3",
   "language": "python",
   "name": "python3"
  },
  "language_info": {
   "codemirror_mode": {
    "name": "ipython",
    "version": 3
   },
   "file_extension": ".py",
   "mimetype": "text/x-python",
   "name": "python",
   "nbconvert_exporter": "python",
   "pygments_lexer": "ipython3",
   "version": "3.8.3"
  }
 },
 "nbformat": 4,
 "nbformat_minor": 1
}
