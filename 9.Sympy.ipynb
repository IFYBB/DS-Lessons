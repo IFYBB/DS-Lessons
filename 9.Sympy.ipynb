{
  "nbformat": 4,
  "nbformat_minor": 0,
  "metadata": {
    "colab": {
      "name": "9.6.ipynb",
      "provenance": []
    },
    "kernelspec": {
      "name": "python3",
      "display_name": "Python 3"
    },
    "language_info": {
      "name": "python"
    }
  },
  "cells": [
    {
      "cell_type": "markdown",
      "metadata": {
        "id": "hbhTKT2FQ3sL"
      },
      "source": [
        "***Задание 1***\n",
        "\n",
        "Вычислите значения выражений:\n",
        "\n",
        "1. 3 * (2 5 0 6 8 10 6 7 5 7) * 2 * (8 6 7 9 6 6 2 3 2 3) = (6 15 0 18 24 30 18 21 15 21) * (16 12 14 18 12 12 4 6 4 6) = 6 * 16 + 15 * 12 + 7 * 0 + 18 * 18 + 24 * 12 + 30 * 12 + 18 * 4 + 21 * 6 + 15 * 4 + 21 * 6 = 1632\n",
        "\n",
        "2. 6 * (9 6 7 7 0 1 6 8 1 1) * 5 * (0 2 2 6 7 8 8 3 1 8) = (54 36 42 42 0 6 36 48 6 6) * (0 10 10 30 35 40 40 15 5 40) = 54 * 0 + 36 * 10 + 42 * 10 + 42 * 30 + 0 * 35 + 6 * 40 + 36 * 40 + 48 * 15 + 6 * 5 + 6*40 = 4710\n",
        "3. (2 5 0 6 8 10 6 7 5 7) * (8 6 7 9 6 6 2 3 2 3) = 2 * 8 + 5 * 6 + 0 * 7 + 6 * 9 + 8 * 6 + 10 * 3 + 6 * 2 + 7 * 3 + 5 * 2 + 7 * 3 = 242\n"
      ]
    },
    {
      "cell_type": "markdown",
      "metadata": {
        "id": "sS1vqT66Xlnb"
      },
      "source": [
        "***Задание 2***\n",
        "\n",
        "Ввод элементов массива поэлементно:"
      ]
    },
    {
      "cell_type": "code",
      "metadata": {
        "id": "qQ5b4SrXw9fV"
      },
      "source": [
        "import numpy as np\n",
        "\n",
        "def create_2d_arr(m, n):\n",
        "    arr_2d=[]\n",
        "    for i in range(m):\n",
        "        internal_arr = []\n",
        "        \n",
        "        for j in range(n):\n",
        "            internal_arr.append(input('Введи элемент матрицы'))\n",
        "        arr_2d.append(internal_arr)\n",
        "    return arr_2d"
      ],
      "execution_count": null,
      "outputs": []
    },
    {
      "cell_type": "markdown",
      "metadata": {
        "id": "cSda2oJQaAbv"
      },
      "source": [
        "Ввод элементов массива построчно:"
      ]
    },
    {
      "cell_type": "code",
      "metadata": {
        "id": "whhp3LLqkHhL"
      },
      "source": [
        "def arra():\n",
        "    m  = int(input(\"Введи число строк матрицы: \"))\n",
        "    arr_2d=[]\n",
        "    for i in range(m):\n",
        "        arr_2d.append(input('Введи строку: ').split())\n",
        "    arr_2d = np.array(arr_2d)\n",
        "    arr_2d = arr_2d.transpose()\n",
        "    return arr_2d"
      ],
      "execution_count": null,
      "outputs": []
    },
    {
      "cell_type": "code",
      "metadata": {
        "colab": {
          "base_uri": "https://localhost:8080/"
        },
        "id": "NfNpNNPLaISz",
        "outputId": "bfaa59ff-2c54-45d2-f3f2-707b497b016f"
      },
      "source": [
        "arra()"
      ],
      "execution_count": null,
      "outputs": [
        {
          "output_type": "stream",
          "text": [
            "Введи число строк матрицы: 4\n",
            "Введи строку: 2 1 7 4\n",
            "Введи строку: 5 6 7 3\n",
            "Введи строку: 9 8 2 12\n",
            "Введи строку: 11 14 15 15\n"
          ],
          "name": "stdout"
        },
        {
          "output_type": "execute_result",
          "data": {
            "text/plain": [
              "array([['2', '5', '9', '11'],\n",
              "       ['1', '6', '8', '14'],\n",
              "       ['7', '7', '2', '15'],\n",
              "       ['4', '3', '12', '15']], dtype='<U2')"
            ]
          },
          "metadata": {
            "tags": []
          },
          "execution_count": 27
        }
      ]
    },
    {
      "cell_type": "code",
      "metadata": {
        "colab": {
          "base_uri": "https://localhost:8080/"
        },
        "id": "U07ow6Slv29a",
        "outputId": "5cc2e3fc-1977-4ab8-a1ab-1230c282c5b3"
      },
      "source": [
        "arra()"
      ],
      "execution_count": null,
      "outputs": [
        {
          "output_type": "stream",
          "text": [
            "Введи число строк матрицы: 2\n",
            "Введи строку: 3 7 8 3 6\n",
            "Введи строку: 2 5 9 4 13\n"
          ],
          "name": "stdout"
        },
        {
          "output_type": "execute_result",
          "data": {
            "text/plain": [
              "array([['3', '2'],\n",
              "       ['7', '5'],\n",
              "       ['8', '9'],\n",
              "       ['3', '4'],\n",
              "       ['6', '13']], dtype='<U2')"
            ]
          },
          "metadata": {
            "tags": []
          },
          "execution_count": 28
        }
      ]
    },
    {
      "cell_type": "markdown",
      "metadata": {
        "id": "i8aAnf6AwRIw"
      },
      "source": [
        "***Задание 3***"
      ]
    },
    {
      "cell_type": "code",
      "metadata": {
        "colab": {
          "base_uri": "https://localhost:8080/",
          "height": 37
        },
        "id": "ORPpFmGHwR5C",
        "outputId": "09a5d5db-6ff2-45ff-c684-af4bba661668"
      },
      "source": [
        "from sympy import *\n",
        "a1, a2 = symbols('a1, a2')\n",
        "\n",
        "MSE = 1/4 * ((a1 * 1 + a2 * 2 - 5)**2 + \\\n",
        "             (a1 * 5 + a2 * 3 - 6)**2 + \\\n",
        "             (a1 * 2 + a2 * 4 - 10)**2 + \\\n",
        "             (a1 * 3 + a2 * 7 - 8)**2)\n",
        "MSE.subs({a1: 0.395, a2: 0.62})"
      ],
      "execution_count": null,
      "outputs": [
        {
          "output_type": "execute_result",
          "data": {
            "text/latex": "$\\displaystyle 16.85724375$",
            "text/plain": [
              "16.8572437500000"
            ]
          },
          "metadata": {
            "tags": []
          },
          "execution_count": 2
        }
      ]
    },
    {
      "cell_type": "code",
      "metadata": {
        "id": "aR5PAxha5h7V",
        "colab": {
          "base_uri": "https://localhost:8080/",
          "height": 37
        },
        "outputId": "f40cf6e5-90ab-459f-8b9a-270e7d0a0e17"
      },
      "source": [
        "MSE = 1/4 * ((a1 * 1 + a2 * 2 - 5)**2 + \\\n",
        "             (a1 * 5 + a2 * 3 - 6)**2 + \\\n",
        "             (a1 * 2 + a2 * 4 - 10)**2 + \\\n",
        "             (a1 * 3 + a2 * 7 - 8)**2)\n",
        "MSE.subs({a1: 0.57, a2: 0.62})"
      ],
      "execution_count": null,
      "outputs": [
        {
          "output_type": "execute_result",
          "data": {
            "text/latex": "$\\displaystyle 14.086775$",
            "text/plain": [
              "14.0867750000000"
            ]
          },
          "metadata": {
            "tags": []
          },
          "execution_count": 3
        }
      ]
    },
    {
      "cell_type": "code",
      "metadata": {
        "colab": {
          "base_uri": "https://localhost:8080/",
          "height": 37
        },
        "id": "mVdezV3xVe2r",
        "outputId": "38f036dc-da4f-4aad-eb63-d4e537a85ed6"
      },
      "source": [
        "MSE.subs({a1: 0.57, a2: 0.91})"
      ],
      "execution_count": null,
      "outputs": [
        {
          "output_type": "execute_result",
          "data": {
            "text/latex": "$\\displaystyle 8.560825$",
            "text/plain": [
              "8.56082500000000"
            ]
          },
          "metadata": {
            "tags": []
          },
          "execution_count": 4
        }
      ]
    },
    {
      "cell_type": "code",
      "metadata": {
        "colab": {
          "base_uri": "https://localhost:8080/",
          "height": 38
        },
        "id": "fSscHaX-Vxmg",
        "outputId": "5227d21d-ba7e-4113-f39d-002c92a0e93f"
      },
      "source": [
        "MSEa1 = diff(MSE, a1)\n",
        "MSEa1"
      ],
      "execution_count": null,
      "outputs": [
        {
          "output_type": "execute_result",
          "data": {
            "text/latex": "$\\displaystyle 19.5 a_{1} + 23.0 a_{2} - 39.5$",
            "text/plain": [
              "19.5*a1 + 23.0*a2 - 39.5"
            ]
          },
          "metadata": {
            "tags": []
          },
          "execution_count": 5
        }
      ]
    },
    {
      "cell_type": "code",
      "metadata": {
        "colab": {
          "base_uri": "https://localhost:8080/",
          "height": 38
        },
        "id": "PdFyhJLCV1nt",
        "outputId": "9c4c454a-1444-4a9f-b25f-95f63bb12da2"
      },
      "source": [
        "MSEa2 = diff(MSE, a2)\n",
        "MSEa2"
      ],
      "execution_count": null,
      "outputs": [
        {
          "output_type": "execute_result",
          "data": {
            "text/latex": "$\\displaystyle 23.0 a_{1} + 39.0 a_{2} - 62.0$",
            "text/plain": [
              "23.0*a1 + 39.0*a2 - 62.0"
            ]
          },
          "metadata": {
            "tags": []
          },
          "execution_count": 6
        }
      ]
    },
    {
      "cell_type": "code",
      "metadata": {
        "id": "_d5lFTi_V2kQ"
      },
      "source": [
        "step = 0.01"
      ],
      "execution_count": null,
      "outputs": []
    },
    {
      "cell_type": "code",
      "metadata": {
        "colab": {
          "base_uri": "https://localhost:8080/"
        },
        "id": "n7bDBZzfWGkJ",
        "outputId": "76d5d285-c501-4f20-fe0d-090d9e06e3ae"
      },
      "source": [
        "# Создаем вектор\n",
        "point = np.array([0.57, 0.91])\n",
        "point"
      ],
      "execution_count": null,
      "outputs": [
        {
          "output_type": "execute_result",
          "data": {
            "text/plain": [
              "array([0.57, 0.91])"
            ]
          },
          "metadata": {
            "tags": []
          },
          "execution_count": 10
        }
      ]
    },
    {
      "cell_type": "code",
      "metadata": {
        "colab": {
          "base_uri": "https://localhost:8080/"
        },
        "id": "hG_yRfgFWTj3",
        "outputId": "beadbd95-7549-45c3-9666-b36d3abb7c01"
      },
      "source": [
        "#Вычисляем градиент\n",
        "grad = np.array([MSEa1.subs({a1: point[0], a2: point[1]}), \n",
        "                    MSEa2.subs({a1: point[0], a2: point[1]})])\n",
        "grad"
      ],
      "execution_count": null,
      "outputs": [
        {
          "output_type": "execute_result",
          "data": {
            "text/plain": [
              "array([-7.45500000000000, -13.4000000000000], dtype=object)"
            ]
          },
          "metadata": {
            "tags": []
          },
          "execution_count": 11
        }
      ]
    },
    {
      "cell_type": "code",
      "metadata": {
        "colab": {
          "base_uri": "https://localhost:8080/"
        },
        "id": "3VJjvM3SWo1d",
        "outputId": "72797877-a3b2-4a35-c041-0c681fdffcb9"
      },
      "source": [
        "# Умножим градиент на шаг и вычтем из точки. Прлучим следующую точку.\n",
        "next_point = point - step * grad\n",
        "next_point"
      ],
      "execution_count": null,
      "outputs": [
        {
          "output_type": "execute_result",
          "data": {
            "text/plain": [
              "array([0.644550000000000, 1.04400000000000], dtype=object)"
            ]
          },
          "metadata": {
            "tags": []
          },
          "execution_count": 12
        }
      ]
    },
    {
      "cell_type": "code",
      "metadata": {
        "colab": {
          "base_uri": "https://localhost:8080/",
          "height": 37
        },
        "id": "TTe4RWSJW623",
        "outputId": "6c74a1f5-102c-475a-f6f0-b2942e102aaa"
      },
      "source": [
        "# Посмотрим, уменьшилась ли MSE\n",
        "MSE.subs({a1: next_point[0], a2: next_point[1]})"
      ],
      "execution_count": null,
      "outputs": [
        {
          "output_type": "execute_result",
          "data": {
            "text/latex": "$\\displaystyle 6.843547449375$",
            "text/plain": [
              "6.84354744937500"
            ]
          },
          "metadata": {
            "tags": []
          },
          "execution_count": 13
        }
      ]
    },
    {
      "cell_type": "markdown",
      "metadata": {
        "id": "BjgCfEb2YJSq"
      },
      "source": [
        "MSE уменьшилась, но недостаточно. Вычисленная next_point станет point для следующей итерации.\n",
        "\n"
      ]
    },
    {
      "cell_type": "code",
      "metadata": {
        "colab": {
          "base_uri": "https://localhost:8080/"
        },
        "id": "X-Gx2fxkYMue",
        "outputId": "b9678ad2-035f-4958-95c8-243f02a78a25"
      },
      "source": [
        "point = next_point\n",
        "point"
      ],
      "execution_count": null,
      "outputs": [
        {
          "output_type": "execute_result",
          "data": {
            "text/plain": [
              "array([0.644550000000000, 1.04400000000000], dtype=object)"
            ]
          },
          "metadata": {
            "tags": []
          },
          "execution_count": 17
        }
      ]
    },
    {
      "cell_type": "code",
      "metadata": {
        "colab": {
          "base_uri": "https://localhost:8080/"
        },
        "id": "d8B3BuNeZEoe",
        "outputId": "8d93a2a9-c241-4030-f53a-7d5f58725cba"
      },
      "source": [
        "grad = np.array([MSEa1.subs({a1: point[0], a2: point[1]}), \n",
        "                    MSEa2.subs({a1: point[0], a2: point[1]})])\n",
        "grad"
      ],
      "execution_count": null,
      "outputs": [
        {
          "output_type": "execute_result",
          "data": {
            "text/plain": [
              "array([-2.91927500000000, -6.45935000000000], dtype=object)"
            ]
          },
          "metadata": {
            "tags": []
          },
          "execution_count": 18
        }
      ]
    },
    {
      "cell_type": "code",
      "metadata": {
        "colab": {
          "base_uri": "https://localhost:8080/"
        },
        "id": "0mGbL26PZXtO",
        "outputId": "7d69cccf-1a4f-4a86-fc03-a4b20e32345c"
      },
      "source": [
        "next_point = point - step * grad\n",
        "next_point"
      ],
      "execution_count": null,
      "outputs": [
        {
          "output_type": "execute_result",
          "data": {
            "text/plain": [
              "array([0.673742750000000, 1.10859350000000], dtype=object)"
            ]
          },
          "metadata": {
            "tags": []
          },
          "execution_count": 19
        }
      ]
    },
    {
      "cell_type": "code",
      "metadata": {
        "colab": {
          "base_uri": "https://localhost:8080/",
          "height": 37
        },
        "id": "tR_xExzeZK2w",
        "outputId": "6bd1ad77-0c3a-48d4-c714-7275ae141250"
      },
      "source": [
        "MSE.subs({a1: next_point[0], a2: next_point[1]})"
      ],
      "execution_count": null,
      "outputs": [
        {
          "output_type": "execute_result",
          "data": {
            "text/latex": "$\\displaystyle 6.47413334061399$",
            "text/plain": [
              "6.47413334061399"
            ]
          },
          "metadata": {
            "tags": []
          },
          "execution_count": 20
        }
      ]
    },
    {
      "cell_type": "markdown",
      "metadata": {
        "id": "_jcD-KdyZbDN"
      },
      "source": [
        "И сделаем еще шаг:"
      ]
    },
    {
      "cell_type": "code",
      "metadata": {
        "colab": {
          "base_uri": "https://localhost:8080/"
        },
        "id": "o1ptCgIBZdW2",
        "outputId": "4494d4f7-82de-4440-8b60-32651c671da4"
      },
      "source": [
        "point = next_point\n",
        "point"
      ],
      "execution_count": null,
      "outputs": [
        {
          "output_type": "execute_result",
          "data": {
            "text/plain": [
              "array([0.673742750000000, 1.10859350000000], dtype=object)"
            ]
          },
          "metadata": {
            "tags": []
          },
          "execution_count": 21
        }
      ]
    },
    {
      "cell_type": "code",
      "metadata": {
        "colab": {
          "base_uri": "https://localhost:8080/"
        },
        "id": "GoYIXjEndGFx",
        "outputId": "ca637e67-dccb-4692-e568-aae2aa1f224e"
      },
      "source": [
        "grad = np.array([MSEa1.subs({a1: point[0], a2: point[1]}), \n",
        "                    MSEa2.subs({a1: point[0], a2: point[1]})])\n",
        "grad"
      ],
      "execution_count": null,
      "outputs": [
        {
          "output_type": "execute_result",
          "data": {
            "text/plain": [
              "array([-0.864365875000004, -3.26877025000000], dtype=object)"
            ]
          },
          "metadata": {
            "tags": []
          },
          "execution_count": 22
        }
      ]
    },
    {
      "cell_type": "code",
      "metadata": {
        "colab": {
          "base_uri": "https://localhost:8080/"
        },
        "id": "ZcTeCdSbdG_d",
        "outputId": "e54b2e9d-6d55-4a59-e1dd-c895b04843f3"
      },
      "source": [
        "next_point = point - step * grad\n",
        "next_point"
      ],
      "execution_count": null,
      "outputs": [
        {
          "output_type": "execute_result",
          "data": {
            "text/plain": [
              "array([0.682386408750000, 1.14128120250000], dtype=object)"
            ]
          },
          "metadata": {
            "tags": []
          },
          "execution_count": 23
        }
      ]
    },
    {
      "cell_type": "code",
      "metadata": {
        "colab": {
          "base_uri": "https://localhost:8080/",
          "height": 37
        },
        "id": "3mCV-RbMd4aj",
        "outputId": "4e982168-3ac5-4886-c113-087a0838468d"
      },
      "source": [
        "MSE.subs({a1: next_point[0], a2: next_point[1]})"
      ],
      "execution_count": null,
      "outputs": [
        {
          "output_type": "execute_result",
          "data": {
            "text/latex": "$\\displaystyle 6.38787584353824$",
            "text/plain": [
              "6.38787584353824"
            ]
          },
          "metadata": {
            "tags": []
          },
          "execution_count": 24
        }
      ]
    },
    {
      "cell_type": "markdown",
      "metadata": {
        "id": "tGpBEh_Jd_G7"
      },
      "source": [
        "Еще:"
      ]
    },
    {
      "cell_type": "code",
      "metadata": {
        "colab": {
          "base_uri": "https://localhost:8080/",
          "height": 37
        },
        "id": "mcH1QFIleAZh",
        "outputId": "82a1666c-d4a1-4903-f9f8-75385a814a88"
      },
      "source": [
        "point = next_point\n",
        "grad = np.array([MSEa1.subs({a1: point[0], a2: point[1]}), \n",
        "                    MSEa2.subs({a1: point[0], a2: point[1]})])\n",
        "next_point = point - step * grad\n",
        "MSE.subs({a1: next_point[0], a2: next_point[1]})"
      ],
      "execution_count": null,
      "outputs": [
        {
          "output_type": "execute_result",
          "data": {
            "text/latex": "$\\displaystyle 6.36167480075008$",
            "text/plain": [
              "6.36167480075008"
            ]
          },
          "metadata": {
            "tags": []
          },
          "execution_count": 25
        }
      ]
    },
    {
      "cell_type": "markdown",
      "metadata": {
        "id": "u-V45NdQeMRS"
      },
      "source": [
        "И еще:"
      ]
    },
    {
      "cell_type": "code",
      "metadata": {
        "id": "Y3kQdMCyeNSz",
        "colab": {
          "base_uri": "https://localhost:8080/",
          "height": 37
        },
        "outputId": "3a23e9c1-4dcf-4bd5-e9de-cb2cb8836c97"
      },
      "source": [
        "point = next_point\n",
        "grad = np.array([MSEa1.subs({a1: point[0], a2: point[1]}), \n",
        "                    MSEa2.subs({a1: point[0], a2: point[1]})])\n",
        "next_point = point - step * grad\n",
        "MSE.subs({a1: next_point[0], a2: next_point[1]})"
      ],
      "execution_count": null,
      "outputs": [
        {
          "output_type": "execute_result",
          "data": {
            "text/latex": "$\\displaystyle 6.34873371109374$",
            "text/plain": [
              "6.34873371109374"
            ]
          },
          "metadata": {
            "tags": []
          },
          "execution_count": 26
        }
      ]
    }
  ]
}