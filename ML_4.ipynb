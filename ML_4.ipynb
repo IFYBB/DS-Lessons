{
  "nbformat": 4,
  "nbformat_minor": 0,
  "metadata": {
    "colab": {
      "name": "ML-4.ipynb",
      "provenance": [],
      "collapsed_sections": []
    },
    "kernelspec": {
      "name": "python3",
      "display_name": "Python 3"
    },
    "language_info": {
      "name": "python"
    }
  },
  "cells": [
    {
      "cell_type": "code",
      "metadata": {
        "colab": {
          "base_uri": "https://localhost:8080/"
        },
        "id": "hR3p8KQzfTRR",
        "outputId": "05b6b912-1224-4123-c9ab-3dd2af811ada"
      },
      "source": [
        "import numpy as np\n",
        "import pandas as pd\n",
        "from sklearn.model_selection import train_test_split\n",
        "from sklearn.linear_model import Ridge, Lasso\n",
        "from sklearn.metrics import mean_squared_error\n",
        "from sklearn.linear_model import LinearRegression\n",
        "from numpy.linalg import norm\n",
        "from matplotlib import pyplot as plt\n",
        "from sklearn.linear_model import SGDRegressor\n",
        "from scipy.spatial import distance\n",
        "from sklearn.preprocessing import StandardScaler\n",
        "from sklearn.metrics import r2_score\n",
        "%matplotlib inline\n",
        "\n",
        "from google.colab import drive\n",
        "from pathlib import Path\n",
        "drive.mount('/content/drive/')\n",
        "path = Path('/content/drive/')"
      ],
      "execution_count": null,
      "outputs": [
        {
          "output_type": "stream",
          "name": "stdout",
          "text": [
            "Drive already mounted at /content/drive/; to attempt to forcibly remount, call drive.mount(\"/content/drive/\", force_remount=True).\n"
          ]
        }
      ]
    },
    {
      "cell_type": "code",
      "metadata": {
        "id": "p2Jd1dbsfv3b"
      },
      "source": [
        "data = pd.read_csv(\"/content/drive/MyDrive/Python/ML/non_linear.csv\")\n",
        "degree = 8\n",
        "\n",
        "def generate_degrees(source_data: list, degree: int):\n",
        "    \"\"\"Функция, которая принимает на вход одномерный массив, а возвращает n-мерный\n",
        "    Для каждой степени от 1 до  degree возводим x в эту степень\n",
        "    \"\"\"\n",
        "    return np.array([\n",
        "          source_data**n for n in range(1, degree + 1)  \n",
        "    ]).T\n",
        "\n",
        "X = generate_degrees(data['x_train'], degree)\n",
        "y = data.y_train.values"
      ],
      "execution_count": null,
      "outputs": []
    },
    {
      "cell_type": "code",
      "metadata": {
        "colab": {
          "base_uri": "https://localhost:8080/"
        },
        "id": "z9EnHVgwYRgY",
        "outputId": "1f7c6f5d-8c33-4584-8f55-2d853c91fd59"
      },
      "source": [
        "X_train, X_valid, y_train, y_valid = train_test_split(X, y, test_size=0.2, random_state=10)\n",
        "model_R = Ridge(alpha=0.8).fit(X_train, y_train)\n",
        "model_L = Lasso(alpha=0.8).fit(X_train, y_train)\n",
        "R_coef = model_R.coef_\n",
        "L_coef = model_L.coef_\n",
        "print(R_coef)\n",
        "print(L_coef)"
      ],
      "execution_count": null,
      "outputs": [
        {
          "output_type": "stream",
          "name": "stdout",
          "text": [
            "[ 4.54261785e-01  3.41976833e-01  3.27582095e-02 -2.07134535e-01\n",
            "  3.63216332e-02  1.18194113e-02 -3.68031928e-03  2.63585519e-04]\n",
            "[-0.00000000e+00 -0.00000000e+00 -1.08299601e-02 -9.52247249e-03\n",
            "  1.03490179e-03  1.87872250e-04  3.38785318e-06 -2.14838285e-06]\n"
          ]
        },
        {
          "output_type": "stream",
          "name": "stderr",
          "text": [
            "/usr/local/lib/python3.7/dist-packages/sklearn/linear_model/_coordinate_descent.py:476: ConvergenceWarning: Objective did not converge. You might want to increase the number of iterations. Duality gap: 3.7134369621139607, tolerance: 0.002448155578496404\n",
            "  positive)\n"
          ]
        }
      ]
    },
    {
      "cell_type": "code",
      "metadata": {
        "id": "C0m4frxJZDTf",
        "colab": {
          "base_uri": "https://localhost:8080/",
          "height": 500
        },
        "outputId": "c37e8fe4-c9ba-4aeb-e0fb-91a675bf9ed3"
      },
      "source": [
        "fig, ax = plt.subplots(figsize=(12, 8))\n",
        "x = np.arange(len(R_coef))\n",
        "bar_width = 0.4\n",
        "ax.bar(x, R_coef, width=bar_width, label=\"Ridge\")\n",
        "ax.bar(x + bar_width, L_coef, width=bar_width, label=\"Lasso\")\n",
        "ax.legend()"
      ],
      "execution_count": null,
      "outputs": [
        {
          "output_type": "execute_result",
          "data": {
            "text/plain": [
              "<matplotlib.legend.Legend at 0x7f9cc14359d0>"
            ]
          },
          "metadata": {},
          "execution_count": 21
        },
        {
          "output_type": "display_data",
          "data": {
            "image/png": "[encoded data removed]",
            "text/plain": [
              "<Figure size 864x576 with 1 Axes>"
            ]
          },
          "metadata": {
            "needs_background": "light"
          }
        }
      ]
    },
    {
      "cell_type": "code",
      "metadata": {
        "id": "i6_H3jFtavuY"
      },
      "source": [
        "y_pred_valid_R = model_R.predict(X_valid)\n",
        "y_pred_train_R = model_R.predict(X_train)"
      ],
      "execution_count": null,
      "outputs": []
    },
    {
      "cell_type": "code",
      "metadata": {
        "id": "RM_sQP1GbaB6"
      },
      "source": [
        "y_pred_valid_L = model_L.predict(X_valid)\n",
        "y_pred_train_L = model_L.predict(X_train)"
      ],
      "execution_count": null,
      "outputs": []
    },
    {
      "cell_type": "code",
      "metadata": {
        "colab": {
          "base_uri": "https://localhost:8080/"
        },
        "id": "7Eg3gsYVcEsa",
        "outputId": "b24e781e-2bc0-42db-9a57-cca853d2f2a1"
      },
      "source": [
        "print(\"Качество валидации Ридж-регрессии %.3f\" % mean_squared_error(y_valid, y_pred_valid_R))\n",
        "print(\"Качество на обучении Ридж-регрессии %.3f\" % mean_squared_error(y_train, y_pred_train_R))"
      ],
      "execution_count": null,
      "outputs": [
        {
          "output_type": "stream",
          "name": "stdout",
          "text": [
            "Качество валидации Ридж-регрессии 0.079\n",
            "Качество на обучении Ридж-регрессии 0.070\n"
          ]
        }
      ]
    },
    {
      "cell_type": "code",
      "metadata": {
        "id": "1p6VwNUJc6yi",
        "colab": {
          "base_uri": "https://localhost:8080/"
        },
        "outputId": "2605e630-e168-491f-9db9-07f95a661f1f"
      },
      "source": [
        "print(\"Качество валидации Лассо-регрессии%.3f\" % mean_squared_error(y_valid, y_pred_valid_L))\n",
        "print(\"Качество на обучении Лассо-регрессии%.3f\" % mean_squared_error(y_train, y_pred_train_L))"
      ],
      "execution_count": null,
      "outputs": [
        {
          "output_type": "stream",
          "name": "stdout",
          "text": [
            "Качество валидации Лассо-регрессии0.093\n",
            "Качество на обучении Лассо-регрессии0.155\n"
          ]
        }
      ]
    },
    {
      "cell_type": "markdown",
      "metadata": {
        "id": "bCpdcUtuO-w_"
      },
      "source": [
        "**Задание среднего уровня**"
      ]
    },
    {
      "cell_type": "code",
      "metadata": {
        "id": "BXw2qMmKO8Jo"
      },
      "source": [
        "from sklearn.datasets import load_boston\n",
        "boston_dataset = load_boston()\n",
        "X = boston_dataset.data\n",
        "y = boston_dataset.target\n",
        "X_train, X_test, y_train, y_test = train_test_split(X, y, test_size=0.2, random_state=10)\n"
      ],
      "execution_count": null,
      "outputs": []
    },
    {
      "cell_type": "code",
      "metadata": {
        "id": "4GCbQU4fPGHW"
      },
      "source": [
        "num_features = X.shape[1] #смотрим размерность массива\n",
        "#learning_rate=\"constant\", eta0 = 2.1"
      ],
      "execution_count": null,
      "outputs": []
    },
    {
      "cell_type": "code",
      "metadata": {
        "colab": {
          "base_uri": "https://localhost:8080/",
          "height": 300
        },
        "id": "8yFgQpanPKw2",
        "outputId": "5b0ab8d4-b5ee-4b6b-8edc-5b041cf27f70"
      },
      "source": [
        "sgd_regressor = SGDRegressor(learning_rate=\"constant\", fit_intercept=True, random_state=42)\n",
        "#sgd_regressor = SGDRegressor(learning_rate=\"constant\", eta0=2.1, fit_intercept=True, rando\n",
        "w_current, epsilon = np.random.random(num_features), 0.001\n",
        "weight_evolution, r2_evolution = [], [] # изменения весов и ошибка на валидации\n",
        "for step in list(range(800)):\n",
        "    X_train = StandardScaler().fit_transform(X_train)\n",
        "    X_test = StandardScaler().fit_transform(X_test)\n",
        "    sgd_regressor = sgd_regressor.partial_fit(X_train, y_train)\n",
        "    weight_evolution.append(distance.euclidean(w_current, sgd_regressor.coef_))\n",
        "    if weight_evolution[-1]<epsilon:\n",
        "        print(\"Итарации остановлены на шаге %d\" % step); break\n",
        "    r2_evolution.append(r2_score(y_test, sgd_regressor.predict(X_test)))\n",
        "    w_current = sgd_regressor.coef_.copy()\n",
        " \n",
        "plt.plot(range(step), r2_evolution)"
      ],
      "execution_count": null,
      "outputs": [
        {
          "output_type": "stream",
          "name": "stdout",
          "text": [
            "Итарации остановлены на шаге 24\n"
          ]
        },
        {
          "output_type": "execute_result",
          "data": {
            "text/plain": [
              "[<matplotlib.lines.Line2D at 0x7f9cc0818690>]"
            ]
          },
          "metadata": {},
          "execution_count": 31
        },
        {
          "output_type": "display_data",
          "data": {
            "image/png": "[encoded data removed]",
            "text/plain": [
              "<Figure size 432x288 with 1 Axes>"
            ]
          },
          "metadata": {
            "needs_background": "light"
          }
        }
      ]
    },
    {
      "cell_type": "markdown",
      "metadata": {
        "id": "InHbOkDYQL8m"
      },
      "source": [
        "**Задача высокого уровня**"
      ]
    },
    {
      "cell_type": "code",
      "metadata": {
        "id": "GTYi_-CJQOu9"
      },
      "source": [
        "def gradient (X, y, w, alpha) -> np.array: #<--добавляем альфу\n",
        " #кол-во примеров в обучающей выборке\n",
        " n = X.shape[0]\n",
        " # прогноз\n",
        " y_hat = X.dot(w.T)\n",
        " # вычисляем ошибку\n",
        " error = y - y_hat\n",
        " # градиент\n",
        " grad = (np.multiply(X, error) + 2*alpha*w).sum(axis=0)*(-1)*2/n #<--добавляем альфу\n",
        " return grad, error\n",
        "def eval_w_next(X, y, eta, w_current, alpha): #<--добавляем альфу\n",
        " # вычисляем градиент\n",
        " grad, error = gradient(X, y, w_current, alpha) #<--добавляем альфу\n",
        " # делаем шаг градиентного спуска\n",
        " w_next = w_current - eta*grad\n",
        " # проверяем условие сходимости\n",
        " weight_evolution = distance.euclidean(w_current, w_next)\n",
        " return (w_next, weight_evolution, grad)\n",
        "def gradient_descent(X: np.array, y: np.array, eta=0.001, epsilon=0.001, alpha = 0.1) -> np.array:\n",
        "    m = X.shape[1] # количество фичей\n",
        "    # инициализируем рандомом веса\n",
        "    w = np.random.random(m).reshape(1, -1)\n",
        "    w_next, weight_evolution, grad = eval_w_next(X, y, eta, w, alpha)\n",
        "    step = 0\n",
        "    # повторяем до сходимости вектора весов\n",
        "    while weight_evolution > epsilon:\n",
        "        w = w_next\n",
        "        w_next, weight_evolution, grad = eval_w_next(X, y, eta, w, alpha) #<--добавляем аль\n",
        "        step += 1\n",
        "        if step % 10 ==0:\n",
        "            print(\"step %s |w-w_next|=%.5f, grad=%s\" % (step, weight_evolution, grad))\n",
        "    return step, w"
      ],
      "execution_count": null,
      "outputs": []
    },
    {
      "cell_type": "code",
      "metadata": {
        "colab": {
          "base_uri": "https://localhost:8080/"
        },
        "id": "c6N8XXHYQk-u",
        "outputId": "10cd9c29-8cce-4de1-d2dc-f59b511e9304"
      },
      "source": [
        "# трансформируем плоский массив X в вектор-столбец\n",
        "X = data['x_train'].values.reshape(-1, 1)\n",
        "n = X.shape[0]\n",
        "# добавляем тривиальный признак w_0, столбец из единиц. См. прошлый урок, почему так\n",
        "X = np.hstack([np.ones(n).reshape(-1,1), X])\n",
        "w = gradient_descent(X, data['y_train'].values.reshape(-1, 1))"
      ],
      "execution_count": null,
      "outputs": [
        {
          "output_type": "stream",
          "name": "stdout",
          "text": [
            "step 10 |w-w_next|=0.00913, grad=[1.35842136 9.03036097]\n",
            "step 20 |w-w_next|=0.00681, grad=[0.81219006 6.76344377]\n",
            "step 30 |w-w_next|=0.00509, grad=[0.40596475 5.07757699]\n",
            "step 40 |w-w_next|=0.00383, grad=[0.10385951 3.82382743]\n",
            "step 50 |w-w_next|=0.00289, grad=[-0.12081343  2.89143602]\n",
            "step 60 |w-w_next|=0.00222, grad=[-0.2879013   2.19803315]\n",
            "step 70 |w-w_next|=0.00173, grad=[-0.41216415  1.68236194]\n",
            "step 80 |w-w_next|=0.00139, grad=[-0.50457876  1.29886672]\n",
            "step 90 |w-w_next|=0.00116, grad=[-0.57330838  1.01366851]\n",
            "step 100 |w-w_next|=0.00102, grad=[-0.62442389  0.80157209]\n"
          ]
        }
      ]
    }
  ]
}