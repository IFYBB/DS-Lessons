{
  "nbformat": 4,
  "nbformat_minor": 0,
  "metadata": {
    "colab": {
      "name": "11.Sympy.ipynb",
      "provenance": []
    },
    "kernelspec": {
      "name": "python3",
      "display_name": "Python 3"
    },
    "language_info": {
      "name": "python"
    }
  },
  "cells": [
    {
      "cell_type": "code",
      "metadata": {
        "id": "lti6S1e3LhJE"
      },
      "source": [
        "from sympy import *\n",
        "import numpy as np"
      ],
      "execution_count": null,
      "outputs": []
    },
    {
      "cell_type": "markdown",
      "metadata": {
        "id": "-FcTVBClYpUz"
      },
      "source": [
        "1.a.1"
      ]
    },
    {
      "cell_type": "code",
      "metadata": {
        "colab": {
          "base_uri": "https://localhost:8080/",
          "height": 57
        },
        "id": "wo71JOG-Yqas",
        "outputId": "c198e733-3f1d-4220-9130-c5f7246c4f8d"
      },
      "source": [
        "X = Matrix([[2, 3],\n",
        "           [0, 1]])\n",
        "# Найдем матрицу, обратную матрице Х:\n",
        "\n",
        "X_inv = X.inv()\n",
        "X_inv"
      ],
      "execution_count": null,
      "outputs": [
        {
          "output_type": "execute_result",
          "data": {
            "text/latex": "$\\displaystyle \\left[\\begin{matrix}\\frac{1}{2} & - \\frac{3}{2}\\\\0 & 1\\end{matrix}\\right]$",
            "text/plain": [
              "Matrix([\n",
              "[1/2, -3/2],\n",
              "[  0,    1]])"
            ]
          },
          "metadata": {
            "tags": []
          },
          "execution_count": 18
        }
      ]
    },
    {
      "cell_type": "code",
      "metadata": {
        "colab": {
          "base_uri": "https://localhost:8080/",
          "height": 57
        },
        "id": "OdUOzN5Eb4sh",
        "outputId": "fd835ff1-616c-426b-e203-6bcc7d2d18fd"
      },
      "source": [
        "Y = Matrix([2, 4])\n",
        "Y"
      ],
      "execution_count": null,
      "outputs": [
        {
          "output_type": "execute_result",
          "data": {
            "text/latex": "$\\displaystyle \\left[\\begin{matrix}2\\\\4\\end{matrix}\\right]$",
            "text/plain": [
              "Matrix([\n",
              "[2],\n",
              "[4]])"
            ]
          },
          "metadata": {
            "tags": []
          },
          "execution_count": 19
        }
      ]
    },
    {
      "cell_type": "code",
      "metadata": {
        "colab": {
          "base_uri": "https://localhost:8080/",
          "height": 57
        },
        "id": "la4n0RdHb-xH",
        "outputId": "d15b56d3-a117-48e1-d7b1-f6d218bc6a38"
      },
      "source": [
        "X_inv * Y"
      ],
      "execution_count": null,
      "outputs": [
        {
          "output_type": "execute_result",
          "data": {
            "text/latex": "$\\displaystyle \\left[\\begin{matrix}-5\\\\4\\end{matrix}\\right]$",
            "text/plain": [
              "Matrix([\n",
              "[-5],\n",
              "[ 4]])"
            ]
          },
          "metadata": {
            "tags": []
          },
          "execution_count": 20
        }
      ]
    },
    {
      "cell_type": "markdown",
      "metadata": {
        "id": "wBgYwBtlcGwW"
      },
      "source": [
        "1.a.2"
      ]
    },
    {
      "cell_type": "code",
      "metadata": {
        "colab": {
          "base_uri": "https://localhost:8080/",
          "height": 57
        },
        "id": "9OqEdMmicHqG",
        "outputId": "a3980dd7-e022-4fae-adb4-626bcad81aa8"
      },
      "source": [
        "X = Matrix([[1, 5],\n",
        "           [0, 3]])\n",
        "# Найдем матрицу, обратную матрице Х:\n",
        "\n",
        "X_inv = X.inv()\n",
        "X_inv"
      ],
      "execution_count": null,
      "outputs": [
        {
          "output_type": "execute_result",
          "data": {
            "text/latex": "$\\displaystyle \\left[\\begin{matrix}1 & - \\frac{5}{3}\\\\0 & \\frac{1}{3}\\end{matrix}\\right]$",
            "text/plain": [
              "Matrix([\n",
              "[1, -5/3],\n",
              "[0,  1/3]])"
            ]
          },
          "metadata": {
            "tags": []
          },
          "execution_count": 21
        }
      ]
    },
    {
      "cell_type": "code",
      "metadata": {
        "colab": {
          "base_uri": "https://localhost:8080/",
          "height": 57
        },
        "id": "6s2a9qFbcT_n",
        "outputId": "038b493b-dd0b-4a67-c7c0-bc402f20cc35"
      },
      "source": [
        "Y = Matrix([3, 9])\n",
        "Y"
      ],
      "execution_count": null,
      "outputs": [
        {
          "output_type": "execute_result",
          "data": {
            "text/latex": "$\\displaystyle \\left[\\begin{matrix}3\\\\9\\end{matrix}\\right]$",
            "text/plain": [
              "Matrix([\n",
              "[3],\n",
              "[9]])"
            ]
          },
          "metadata": {
            "tags": []
          },
          "execution_count": 22
        }
      ]
    },
    {
      "cell_type": "code",
      "metadata": {
        "colab": {
          "base_uri": "https://localhost:8080/",
          "height": 57
        },
        "id": "-OBCB0T9cXvP",
        "outputId": "31144f22-b585-4942-f0f6-dd933804b594"
      },
      "source": [
        "X_inv * Y"
      ],
      "execution_count": null,
      "outputs": [
        {
          "output_type": "execute_result",
          "data": {
            "text/latex": "$\\displaystyle \\left[\\begin{matrix}-12\\\\3\\end{matrix}\\right]$",
            "text/plain": [
              "Matrix([\n",
              "[-12],\n",
              "[  3]])"
            ]
          },
          "metadata": {
            "tags": []
          },
          "execution_count": 23
        }
      ]
    },
    {
      "cell_type": "markdown",
      "metadata": {
        "id": "lLildvyccZ8f"
      },
      "source": [
        "1.б.1"
      ]
    },
    {
      "cell_type": "code",
      "metadata": {
        "colab": {
          "base_uri": "https://localhost:8080/",
          "height": 78
        },
        "id": "76BWeQpocden",
        "outputId": "9b5afe25-94c3-468a-86ba-caf58bb11326"
      },
      "source": [
        "X = Matrix([[2, 3, -1],\n",
        "            [0, 1, 1],\n",
        "           [1, -1, 2]])\n",
        "# Найдем матрицу, обратную матрице Х:\n",
        "\n",
        "X_inv = X.inv()\n",
        "X_inv"
      ],
      "execution_count": null,
      "outputs": [
        {
          "output_type": "execute_result",
          "data": {
            "text/latex": "$\\displaystyle \\left[\\begin{matrix}\\frac{3}{10} & - \\frac{1}{2} & \\frac{2}{5}\\\\\\frac{1}{10} & \\frac{1}{2} & - \\frac{1}{5}\\\\- \\frac{1}{10} & \\frac{1}{2} & \\frac{1}{5}\\end{matrix}\\right]$",
            "text/plain": [
              "Matrix([\n",
              "[ 3/10, -1/2,  2/5],\n",
              "[ 1/10,  1/2, -1/5],\n",
              "[-1/10,  1/2,  1/5]])"
            ]
          },
          "metadata": {
            "tags": []
          },
          "execution_count": 24
        }
      ]
    },
    {
      "cell_type": "code",
      "metadata": {
        "colab": {
          "base_uri": "https://localhost:8080/",
          "height": 78
        },
        "id": "bieykG9Scu0J",
        "outputId": "2b5fe768-0b97-42e0-ff20-e59aed55f0ba"
      },
      "source": [
        "Y = Matrix([2, 4, 6])\n",
        "Y"
      ],
      "execution_count": null,
      "outputs": [
        {
          "output_type": "execute_result",
          "data": {
            "text/latex": "$\\displaystyle \\left[\\begin{matrix}2\\\\4\\\\6\\end{matrix}\\right]$",
            "text/plain": [
              "Matrix([\n",
              "[2],\n",
              "[4],\n",
              "[6]])"
            ]
          },
          "metadata": {
            "tags": []
          },
          "execution_count": 25
        }
      ]
    },
    {
      "cell_type": "code",
      "metadata": {
        "colab": {
          "base_uri": "https://localhost:8080/",
          "height": 78
        },
        "id": "qAplFV8IczU_",
        "outputId": "6ce42070-2471-457b-8925-129379fae7b2"
      },
      "source": [
        "X_inv * Y"
      ],
      "execution_count": null,
      "outputs": [
        {
          "output_type": "execute_result",
          "data": {
            "text/latex": "$\\displaystyle \\left[\\begin{matrix}1\\\\1\\\\3\\end{matrix}\\right]$",
            "text/plain": [
              "Matrix([\n",
              "[1],\n",
              "[1],\n",
              "[3]])"
            ]
          },
          "metadata": {
            "tags": []
          },
          "execution_count": 26
        }
      ]
    },
    {
      "cell_type": "markdown",
      "metadata": {
        "id": "pHvWfVL-c1O3"
      },
      "source": [
        "1.б.2"
      ]
    },
    {
      "cell_type": "code",
      "metadata": {
        "colab": {
          "base_uri": "https://localhost:8080/",
          "height": 78
        },
        "id": "Mh7hytqOc4no",
        "outputId": "568d5062-e1b1-4f25-8946-90262555ccd6"
      },
      "source": [
        "X = Matrix([[1, 5, -2],\n",
        "            [0, 3, 1],\n",
        "           [-4, -6, 2]])\n",
        "# Найдем матрицу, обратную матрице Х:\n",
        "\n",
        "X_inv = X.inv()\n",
        "X_inv"
      ],
      "execution_count": null,
      "outputs": [
        {
          "output_type": "execute_result",
          "data": {
            "text/latex": "$\\displaystyle \\left[\\begin{matrix}- \\frac{3}{8} & - \\frac{1}{16} & - \\frac{11}{32}\\\\\\frac{1}{8} & \\frac{3}{16} & \\frac{1}{32}\\\\- \\frac{3}{8} & \\frac{7}{16} & - \\frac{3}{32}\\end{matrix}\\right]$",
            "text/plain": [
              "Matrix([\n",
              "[-3/8, -1/16, -11/32],\n",
              "[ 1/8,  3/16,   1/32],\n",
              "[-3/8,  7/16,  -3/32]])"
            ]
          },
          "metadata": {
            "tags": []
          },
          "execution_count": 27
        }
      ]
    },
    {
      "cell_type": "code",
      "metadata": {
        "colab": {
          "base_uri": "https://localhost:8080/",
          "height": 78
        },
        "id": "HE_pkU6LdBMx",
        "outputId": "aedb40cf-2717-4c12-fcfb-669e2d84ee1a"
      },
      "source": [
        "Y = Matrix([8, 16, 32])\n",
        "Y"
      ],
      "execution_count": null,
      "outputs": [
        {
          "output_type": "execute_result",
          "data": {
            "text/latex": "$\\displaystyle \\left[\\begin{matrix}8\\\\16\\\\32\\end{matrix}\\right]$",
            "text/plain": [
              "Matrix([\n",
              "[ 8],\n",
              "[16],\n",
              "[32]])"
            ]
          },
          "metadata": {
            "tags": []
          },
          "execution_count": 28
        }
      ]
    },
    {
      "cell_type": "code",
      "metadata": {
        "colab": {
          "base_uri": "https://localhost:8080/",
          "height": 78
        },
        "id": "ytuVZ7m-dHY3",
        "outputId": "08591d32-76c4-4284-f17a-88bb9a0fde0e"
      },
      "source": [
        "X_inv * Y"
      ],
      "execution_count": null,
      "outputs": [
        {
          "output_type": "execute_result",
          "data": {
            "text/latex": "$\\displaystyle \\left[\\begin{matrix}-15\\\\5\\\\1\\end{matrix}\\right]$",
            "text/plain": [
              "Matrix([\n",
              "[-15],\n",
              "[  5],\n",
              "[  1]])"
            ]
          },
          "metadata": {
            "tags": []
          },
          "execution_count": 29
        }
      ]
    },
    {
      "cell_type": "markdown",
      "metadata": {
        "id": "7MIvHEX0dLnb"
      },
      "source": [
        "2"
      ]
    },
    {
      "cell_type": "code",
      "metadata": {
        "colab": {
          "base_uri": "https://localhost:8080/",
          "height": 99
        },
        "id": "dY28P0RRdzVG",
        "outputId": "6d293864-c0a1-4651-81be-f26de13d9867"
      },
      "source": [
        "MSE = Matrix([[1, 2],\n",
        "                    [5, 3],\n",
        "                    [2, 4],\n",
        "                    [3, 7]])\n",
        "MSE"
      ],
      "execution_count": null,
      "outputs": [
        {
          "output_type": "execute_result",
          "data": {
            "text/latex": "$\\displaystyle \\left[\\begin{matrix}1 & 2\\\\5 & 3\\\\2 & 4\\\\3 & 7\\end{matrix}\\right]$",
            "text/plain": [
              "Matrix([\n",
              "[1, 2],\n",
              "[5, 3],\n",
              "[2, 4],\n",
              "[3, 7]])"
            ]
          },
          "metadata": {
            "tags": []
          },
          "execution_count": 2
        }
      ]
    },
    {
      "cell_type": "code",
      "metadata": {
        "colab": {
          "base_uri": "https://localhost:8080/",
          "height": 99
        },
        "id": "HX9tvX1QgDr2",
        "outputId": "09025e24-46eb-43c9-d9ad-d89d8647d207"
      },
      "source": [
        "b = Matrix([5, 6, 10, 8])\n",
        "b"
      ],
      "execution_count": null,
      "outputs": [
        {
          "output_type": "execute_result",
          "data": {
            "text/latex": "$\\displaystyle \\left[\\begin{matrix}5\\\\6\\\\10\\\\8\\end{matrix}\\right]$",
            "text/plain": [
              "Matrix([\n",
              "[ 5],\n",
              "[ 6],\n",
              "[10],\n",
              "[ 8]])"
            ]
          },
          "metadata": {
            "tags": []
          },
          "execution_count": 3
        }
      ]
    },
    {
      "cell_type": "code",
      "metadata": {
        "colab": {
          "base_uri": "https://localhost:8080/",
          "height": 57
        },
        "id": "SSkHsAKRgKkd",
        "outputId": "0d1058b5-f9fe-4109-b2f4-0fcb70750365"
      },
      "source": [
        "MSE.T"
      ],
      "execution_count": null,
      "outputs": [
        {
          "output_type": "execute_result",
          "data": {
            "text/latex": "$\\displaystyle \\left[\\begin{matrix}1 & 5 & 2 & 3\\\\2 & 3 & 4 & 7\\end{matrix}\\right]$",
            "text/plain": [
              "Matrix([\n",
              "[1, 5, 2, 3],\n",
              "[2, 3, 4, 7]])"
            ]
          },
          "metadata": {
            "tags": []
          },
          "execution_count": 4
        }
      ]
    },
    {
      "cell_type": "code",
      "metadata": {
        "colab": {
          "base_uri": "https://localhost:8080/",
          "height": 57
        },
        "id": "gmN_pGucgQW9",
        "outputId": "fc8549eb-b79b-49d1-cda4-91560e288387"
      },
      "source": [
        "mul = MSE.T * MSE\n",
        "mul"
      ],
      "execution_count": null,
      "outputs": [
        {
          "output_type": "execute_result",
          "data": {
            "text/latex": "$\\displaystyle \\left[\\begin{matrix}39 & 46\\\\46 & 78\\end{matrix}\\right]$",
            "text/plain": [
              "Matrix([\n",
              "[39, 46],\n",
              "[46, 78]])"
            ]
          },
          "metadata": {
            "tags": []
          },
          "execution_count": 5
        }
      ]
    },
    {
      "cell_type": "code",
      "metadata": {
        "colab": {
          "base_uri": "https://localhost:8080/",
          "height": 37
        },
        "id": "SNIB7p_dgSz9",
        "outputId": "6a792c6b-241f-4ed7-c92a-1ee86a365f0d"
      },
      "source": [
        "mul.det()"
      ],
      "execution_count": null,
      "outputs": [
        {
          "output_type": "execute_result",
          "data": {
            "text/latex": "$\\displaystyle 926$",
            "text/plain": [
              "926"
            ]
          },
          "metadata": {
            "tags": []
          },
          "execution_count": 6
        }
      ]
    },
    {
      "cell_type": "code",
      "metadata": {
        "id": "iee33geJgUw1"
      },
      "source": [
        "next_point = (MSE.T * MSE)**(-1) * MSE.T * b"
      ],
      "execution_count": null,
      "outputs": []
    },
    {
      "cell_type": "code",
      "metadata": {
        "colab": {
          "base_uri": "https://localhost:8080/",
          "height": 39
        },
        "id": "QJZagtIsgi-F",
        "outputId": "9e3e3caa-3dbd-4671-8b49-c2ee14c0dbba"
      },
      "source": [
        "a1, a2 = symbols('a1, a2')\n",
        "\n",
        "MSE = 1/4 * ((a1 * 1 + a2 * 2 - 5)**2 + \\\n",
        "             (a1 * 5 + a2 * 3 - 6)**2 + \\\n",
        "             (a1 * 2 + a2 * 4 - 10)**2 + \\\n",
        "             (a1 * 3 + a2 * 7 - 8)**2)\n",
        "MSE"
      ],
      "execution_count": null,
      "outputs": [
        {
          "output_type": "execute_result",
          "data": {
            "text/latex": "$\\displaystyle 0.25 \\left(a_{1} + 2 a_{2} - 5\\right)^{2} + 0.25 \\left(2 a_{1} + 4 a_{2} - 10\\right)^{2} + 0.25 \\left(3 a_{1} + 7 a_{2} - 8\\right)^{2} + 0.25 \\left(5 a_{1} + 3 a_{2} - 6\\right)^{2}$",
            "text/plain": [
              "0.25*(a1 + 2*a2 - 5)**2 + 0.25*(2*a1 + 4*a2 - 10)**2 + 0.25*(3*a1 + 7*a2 - 8)**2 + 0.25*(5*a1 + 3*a2 - 6)**2"
            ]
          },
          "metadata": {
            "tags": []
          },
          "execution_count": 8
        }
      ]
    },
    {
      "cell_type": "code",
      "metadata": {
        "colab": {
          "base_uri": "https://localhost:8080/",
          "height": 37
        },
        "id": "MSyKYBqUjRKc",
        "outputId": "e863db94-c489-4738-ac3d-21109a974a50"
      },
      "source": [
        "MSE.subs({a1: next_point[0], a2: next_point[1]})"
      ],
      "execution_count": null,
      "outputs": [
        {
          "output_type": "execute_result",
          "data": {
            "text/latex": "$\\displaystyle 6.24190064794816$",
            "text/plain": [
              "6.24190064794816"
            ]
          },
          "metadata": {
            "tags": []
          },
          "execution_count": 9
        }
      ]
    }
  ]
}