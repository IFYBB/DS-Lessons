{
  "nbformat": 4,
  "nbformat_minor": 0,
  "metadata": {
    "colab": {
      "name": "10.ipynb",
      "provenance": []
    },
    "kernelspec": {
      "name": "python3",
      "display_name": "Python 3"
    },
    "language_info": {
      "name": "python"
    }
  },
  "cells": [
    {
      "cell_type": "code",
      "metadata": {
        "id": "A1enTXLB3HIE"
      },
      "source": [
        "from sympy import *\n",
        "x, y = symbols('x, y')"
      ],
      "execution_count": null,
      "outputs": []
    },
    {
      "cell_type": "markdown",
      "metadata": {
        "id": "z_DfP8JhRsFr"
      },
      "source": [
        "1.1"
      ]
    },
    {
      "cell_type": "code",
      "metadata": {
        "colab": {
          "base_uri": "https://localhost:8080/",
          "height": 57
        },
        "id": "k-6EthrJRu7x",
        "outputId": "daee0431-84c3-4311-a2f9-6bcac202695c"
      },
      "source": [
        "X = Matrix([[-1, 7], [8, 8]])\n",
        "X"
      ],
      "execution_count": null,
      "outputs": [
        {
          "output_type": "execute_result",
          "data": {
            "text/latex": "$\\displaystyle \\left[\\begin{matrix}-1 & 7\\\\8 & 8\\end{matrix}\\right]$",
            "text/plain": [
              "Matrix([\n",
              "[-1, 7],\n",
              "[ 8, 8]])"
            ]
          },
          "metadata": {
            "tags": []
          },
          "execution_count": 14
        }
      ]
    },
    {
      "cell_type": "code",
      "metadata": {
        "colab": {
          "base_uri": "https://localhost:8080/",
          "height": 57
        },
        "id": "6sAbmjYPDGiE",
        "outputId": "26a88a4c-efcf-4147-c792-343024f961e1"
      },
      "source": [
        "X_full = Matrix([[-1, 7, -34], [8, 8, -48]])\n",
        "X_full"
      ],
      "execution_count": null,
      "outputs": [
        {
          "output_type": "execute_result",
          "data": {
            "text/latex": "$\\displaystyle \\left[\\begin{matrix}-1 & 7 & -34\\\\8 & 8 & -48\\end{matrix}\\right]$",
            "text/plain": [
              "Matrix([\n",
              "[-1, 7, -34],\n",
              "[ 8, 8, -48]])"
            ]
          },
          "metadata": {
            "tags": []
          },
          "execution_count": 15
        }
      ]
    },
    {
      "cell_type": "code",
      "metadata": {
        "colab": {
          "base_uri": "https://localhost:8080/",
          "height": 37
        },
        "id": "vVCeezuOMtKg",
        "outputId": "fa7f0e9e-6fd7-4759-a95f-8ca5c34ba029"
      },
      "source": [
        "linsolve(X_full, [x, y])"
      ],
      "execution_count": null,
      "outputs": [
        {
          "output_type": "execute_result",
          "data": {
            "text/latex": "$\\displaystyle \\left\\{\\left( -1, \\  -5\\right)\\right\\}$",
            "text/plain": [
              "FiniteSet((-1, -5))"
            ]
          },
          "metadata": {
            "tags": []
          },
          "execution_count": 16
        }
      ]
    },
    {
      "cell_type": "code",
      "metadata": {
        "colab": {
          "base_uri": "https://localhost:8080/",
          "height": 57
        },
        "id": "wxEOfuQNMVPd",
        "outputId": "10b74b75-a851-4d3a-c8af-99840b11f82f"
      },
      "source": [
        "a = Matrix([x, y])\n",
        "a"
      ],
      "execution_count": null,
      "outputs": [
        {
          "output_type": "execute_result",
          "data": {
            "text/latex": "$\\displaystyle \\left[\\begin{matrix}x\\\\y\\end{matrix}\\right]$",
            "text/plain": [
              "Matrix([\n",
              "[x],\n",
              "[y]])"
            ]
          },
          "metadata": {
            "tags": []
          },
          "execution_count": 17
        }
      ]
    },
    {
      "cell_type": "code",
      "metadata": {
        "colab": {
          "base_uri": "https://localhost:8080/",
          "height": 57
        },
        "id": "1ze4KlH7STcu",
        "outputId": "3535ffa4-b450-4101-881d-f4107eb1dfe3"
      },
      "source": [
        "X*a"
      ],
      "execution_count": null,
      "outputs": [
        {
          "output_type": "execute_result",
          "data": {
            "text/latex": "$\\displaystyle \\left[\\begin{matrix}- x + 7 y\\\\8 x + 8 y\\end{matrix}\\right]$",
            "text/plain": [
              "Matrix([\n",
              "[ -x + 7*y],\n",
              "[8*x + 8*y]])"
            ]
          },
          "metadata": {
            "tags": []
          },
          "execution_count": 18
        }
      ]
    },
    {
      "cell_type": "code",
      "metadata": {
        "colab": {
          "base_uri": "https://localhost:8080/",
          "height": 57
        },
        "id": "ABxYCCm8SZUt",
        "outputId": "06aac1d0-75cc-4458-d02d-7475f52b6f9e"
      },
      "source": [
        "b = Matrix([-34, -48])\n",
        "b"
      ],
      "execution_count": null,
      "outputs": [
        {
          "output_type": "execute_result",
          "data": {
            "text/latex": "$\\displaystyle \\left[\\begin{matrix}-34\\\\-48\\end{matrix}\\right]$",
            "text/plain": [
              "Matrix([\n",
              "[-34],\n",
              "[-48]])"
            ]
          },
          "metadata": {
            "tags": []
          },
          "execution_count": 21
        }
      ]
    },
    {
      "cell_type": "code",
      "metadata": {
        "colab": {
          "base_uri": "https://localhost:8080/",
          "height": 57
        },
        "id": "nBi0fhhbSgf9",
        "outputId": "a82fecaa-7fb3-4839-f5e6-94a6b23bf78a"
      },
      "source": [
        "X*a-b"
      ],
      "execution_count": null,
      "outputs": [
        {
          "output_type": "execute_result",
          "data": {
            "text/latex": "$\\displaystyle \\left[\\begin{matrix}- x + 7 y + 34\\\\8 x + 8 y + 48\\end{matrix}\\right]$",
            "text/plain": [
              "Matrix([\n",
              "[ -x + 7*y + 34],\n",
              "[8*x + 8*y + 48]])"
            ]
          },
          "metadata": {
            "tags": []
          },
          "execution_count": 22
        }
      ]
    },
    {
      "cell_type": "markdown",
      "metadata": {
        "id": "YTFCUU2F4-su"
      },
      "source": [
        "1.2"
      ]
    },
    {
      "cell_type": "code",
      "metadata": {
        "colab": {
          "base_uri": "https://localhost:8080/",
          "height": 37
        },
        "id": "olNUDvZi5BKC",
        "outputId": "6e538a35-1825-48c7-a34a-8fce6143d427"
      },
      "source": [
        "X = Matrix([[4, -7], [3, -48]])\n",
        "linsolve(X, [x, y])"
      ],
      "execution_count": null,
      "outputs": [
        {
          "output_type": "execute_result",
          "data": {
            "text/latex": "$\\displaystyle \\left\\{\\left( -1, \\  0\\right)\\right\\}$",
            "text/plain": [
              "FiniteSet((-1, 0))"
            ]
          },
          "metadata": {
            "tags": []
          },
          "execution_count": 3
        }
      ]
    },
    {
      "cell_type": "code",
      "metadata": {
        "id": "aV3yM5wVEC_n"
      },
      "source": [
        "X_full = Matrix([[4, -7, -4], [3, -48, -3]])\n",
        "X_full"
      ],
      "execution_count": null,
      "outputs": []
    },
    {
      "cell_type": "markdown",
      "metadata": {
        "id": "kYq47HXU5UJy"
      },
      "source": [
        "1.3"
      ]
    },
    {
      "cell_type": "code",
      "metadata": {
        "colab": {
          "base_uri": "https://localhost:8080/",
          "height": 57
        },
        "id": "W4JMj5Ma5Vea",
        "outputId": "f1913424-12cc-4a12-d215-deac8a655d5f"
      },
      "source": [
        "a, b = symbols('a, b')\n",
        "X = Matrix([[8, -4], [-3, 3]])\n",
        "X"
      ],
      "execution_count": null,
      "outputs": [
        {
          "output_type": "execute_result",
          "data": {
            "text/latex": "$\\displaystyle \\left[\\begin{matrix}8 & -4\\\\-3 & 3\\end{matrix}\\right]$",
            "text/plain": [
              "Matrix([\n",
              "[ 8, -4],\n",
              "[-3,  3]])"
            ]
          },
          "metadata": {
            "tags": []
          },
          "execution_count": 2
        }
      ]
    },
    {
      "cell_type": "code",
      "metadata": {
        "colab": {
          "base_uri": "https://localhost:8080/",
          "height": 37
        },
        "id": "XlQSmgiJEi4m",
        "outputId": "cbd022c6-bb11-4401-f8d1-8d5e80cf4ef0"
      },
      "source": [
        "X_full = Matrix([[8, -4, 64], [-3, 3, -21]])\n",
        "linsolve(X_full, [a, b])"
      ],
      "execution_count": null,
      "outputs": [
        {
          "output_type": "execute_result",
          "data": {
            "text/latex": "$\\displaystyle \\left\\{\\left( 9, \\  2\\right)\\right\\}$",
            "text/plain": [
              "FiniteSet((9, 2))"
            ]
          },
          "metadata": {
            "tags": []
          },
          "execution_count": 4
        }
      ]
    },
    {
      "cell_type": "markdown",
      "metadata": {
        "id": "mc7g4duJ5sXQ"
      },
      "source": [
        "1.4"
      ]
    },
    {
      "cell_type": "code",
      "metadata": {
        "colab": {
          "base_uri": "https://localhost:8080/",
          "height": 78
        },
        "id": "eZIGi72h5tXB",
        "outputId": "13056d27-0524-4937-a2a8-8cb5d2f20eaf"
      },
      "source": [
        "x1, x2, x3 = symbols('x1, x2, x3')\n",
        "X = Matrix([[5, 7, -5], [0, -2, 2], [-4, -8, -7]])\n",
        "X"
      ],
      "execution_count": null,
      "outputs": [
        {
          "output_type": "execute_result",
          "data": {
            "text/latex": "$\\displaystyle \\left[\\begin{matrix}5 & 7 & -5\\\\0 & -2 & 2\\\\-4 & -8 & -7\\end{matrix}\\right]$",
            "text/plain": [
              "Matrix([\n",
              "[ 5,  7, -5],\n",
              "[ 0, -2,  2],\n",
              "[-4, -8, -7]])"
            ]
          },
          "metadata": {
            "tags": []
          },
          "execution_count": 5
        }
      ]
    },
    {
      "cell_type": "code",
      "metadata": {
        "colab": {
          "base_uri": "https://localhost:8080/",
          "height": 37
        },
        "id": "PL-ZHhmlJ2ul",
        "outputId": "600e3c27-71fd-4781-89dc-85f301189093"
      },
      "source": [
        "X_full = Matrix([[5, 7, -5, -47], [0, -2, 2, 10], [-4, -8, -7, 63]])\n",
        "linsolve(X_full, [x1, x2, x3])"
      ],
      "execution_count": null,
      "outputs": [
        {
          "output_type": "execute_result",
          "data": {
            "text/latex": "$\\displaystyle \\left\\{\\left( -2, \\  -6, \\  -1\\right)\\right\\}$",
            "text/plain": [
              "FiniteSet((-2, -6, -1))"
            ]
          },
          "metadata": {
            "tags": []
          },
          "execution_count": 6
        }
      ]
    },
    {
      "cell_type": "markdown",
      "metadata": {
        "id": "JW083Zz68kUR"
      },
      "source": [
        "2.1"
      ]
    },
    {
      "cell_type": "code",
      "metadata": {
        "id": "QE-LITcl8mQf",
        "colab": {
          "base_uri": "https://localhost:8080/",
          "height": 57
        },
        "outputId": "e9bc2e83-deb4-494d-fce5-f8607291ab3c"
      },
      "source": [
        "X = Matrix([[-1, 7], [8, 8]])\n",
        "X"
      ],
      "execution_count": null,
      "outputs": [
        {
          "output_type": "execute_result",
          "data": {
            "text/latex": "$\\displaystyle \\left[\\begin{matrix}-1 & 7\\\\8 & 8\\end{matrix}\\right]$",
            "text/plain": [
              "Matrix([\n",
              "[-1, 7],\n",
              "[ 8, 8]])"
            ]
          },
          "metadata": {
            "tags": []
          },
          "execution_count": 24
        }
      ]
    },
    {
      "cell_type": "code",
      "metadata": {
        "colab": {
          "base_uri": "https://localhost:8080/",
          "height": 57
        },
        "id": "PVvRyM8zWvGy",
        "outputId": "f3571219-fd2b-45df-ca6e-e844b840aa94"
      },
      "source": [
        "Y = Matrix([-1, -5])\n",
        "Y"
      ],
      "execution_count": null,
      "outputs": [
        {
          "output_type": "execute_result",
          "data": {
            "text/latex": "$\\displaystyle \\left[\\begin{matrix}-1\\\\-5\\end{matrix}\\right]$",
            "text/plain": [
              "Matrix([\n",
              "[-1],\n",
              "[-5]])"
            ]
          },
          "metadata": {
            "tags": []
          },
          "execution_count": 25
        }
      ]
    },
    {
      "cell_type": "code",
      "metadata": {
        "colab": {
          "base_uri": "https://localhost:8080/",
          "height": 57
        },
        "id": "LT8yzf9UXPqw",
        "outputId": "9c1013b3-d581-45ba-b2ee-53213ce91d7b"
      },
      "source": [
        "X * Y"
      ],
      "execution_count": null,
      "outputs": [
        {
          "output_type": "execute_result",
          "data": {
            "text/latex": "$\\displaystyle \\left[\\begin{matrix}-34\\\\-48\\end{matrix}\\right]$",
            "text/plain": [
              "Matrix([\n",
              "[-34],\n",
              "[-48]])"
            ]
          },
          "metadata": {
            "tags": []
          },
          "execution_count": 26
        }
      ]
    },
    {
      "cell_type": "markdown",
      "metadata": {
        "id": "CEn5El06XRsY"
      },
      "source": [
        "2.2"
      ]
    },
    {
      "cell_type": "code",
      "metadata": {
        "colab": {
          "base_uri": "https://localhost:8080/",
          "height": 57
        },
        "id": "qEhpJj5hXROa",
        "outputId": "2e9b70e0-e3be-423c-cd03-972bbbfc25b4"
      },
      "source": [
        "X = Matrix([[4, -7], [3, -4]])\n",
        "Y = Matrix([-1, 0])\n",
        "X * Y"
      ],
      "execution_count": null,
      "outputs": [
        {
          "output_type": "execute_result",
          "data": {
            "text/latex": "$\\displaystyle \\left[\\begin{matrix}-4\\\\-3\\end{matrix}\\right]$",
            "text/plain": [
              "Matrix([\n",
              "[-4],\n",
              "[-3]])"
            ]
          },
          "metadata": {
            "tags": []
          },
          "execution_count": 32
        }
      ]
    },
    {
      "cell_type": "markdown",
      "metadata": {
        "id": "hjzpCOV8cBat"
      },
      "source": [
        "2.3"
      ]
    },
    {
      "cell_type": "code",
      "metadata": {
        "id": "XIPO1EPVcCzt",
        "colab": {
          "base_uri": "https://localhost:8080/",
          "height": 57
        },
        "outputId": "21f171df-e658-4d45-e423-fa0c4fb3deca"
      },
      "source": [
        "X = Matrix([[8, -4], [3, -3]])\n",
        "Y = Matrix([9, 2])\n",
        "X * Y"
      ],
      "execution_count": null,
      "outputs": [
        {
          "output_type": "execute_result",
          "data": {
            "text/latex": "$\\displaystyle \\left[\\begin{matrix}64\\\\21\\end{matrix}\\right]$",
            "text/plain": [
              "Matrix([\n",
              "[64],\n",
              "[21]])"
            ]
          },
          "metadata": {
            "tags": []
          },
          "execution_count": 2
        }
      ]
    },
    {
      "cell_type": "markdown",
      "metadata": {
        "id": "kyCnABUiaF27"
      },
      "source": [
        "2.4"
      ]
    },
    {
      "cell_type": "code",
      "metadata": {
        "colab": {
          "base_uri": "https://localhost:8080/",
          "height": 78
        },
        "id": "5S9e0ccIaHus",
        "outputId": "ffe74c60-698e-4c0b-9a83-6bfa4d3f2152"
      },
      "source": [
        "X = Matrix([[5, 7, -5], [0, -2, 2], [-4, -8, -7]])\n",
        "Y = Matrix([-2, -6, -1])\n",
        "X * Y"
      ],
      "execution_count": null,
      "outputs": [
        {
          "output_type": "execute_result",
          "data": {
            "text/latex": "$\\displaystyle \\left[\\begin{matrix}-47\\\\10\\\\63\\end{matrix}\\right]$",
            "text/plain": [
              "Matrix([\n",
              "[-47],\n",
              "[ 10],\n",
              "[ 63]])"
            ]
          },
          "metadata": {
            "tags": []
          },
          "execution_count": 3
        }
      ]
    },
    {
      "cell_type": "markdown",
      "metadata": {
        "id": "tD_8iALGatBD"
      },
      "source": [
        "3. Переопределенная СЛАУ"
      ]
    },
    {
      "cell_type": "code",
      "metadata": {
        "id": "3bFyrHctatuS"
      },
      "source": [
        "import numpy as np\n",
        "x, y, z = symbols('x, y, z')\n",
        "\n",
        "MSE = 1/6 * ((5*x + 7*y - 5*z + 47)**2 + \\\n",
        "             (0 - 2*y + 2*z - 10)**2 + \\\n",
        "             (-4*x - 8*y - 7*z - 63)**2 + \\\n",
        "             (1*x + 1*y + 2*z + 1)**2 + \\\n",
        "             (2*x - 1*y + 2*z + 4)**2 + \\\n",
        "             (4*x + 1*y + 4*z + 2)**2)"
      ],
      "execution_count": null,
      "outputs": []
    },
    {
      "cell_type": "code",
      "metadata": {
        "colab": {
          "base_uri": "https://localhost:8080/",
          "height": 37
        },
        "id": "7g8FacUc0s7_",
        "outputId": "2ff632c5-5c8a-4e91-b0a9-9dd5dd0966e5"
      },
      "source": [
        "# Смотрим, чему равно значение MSE в точке (0, 0, 0):\n",
        "\n",
        "MSE.subs({x: 0, y: 0, z:0})"
      ],
      "execution_count": null,
      "outputs": [
        {
          "output_type": "execute_result",
          "data": {
            "text/latex": "$\\displaystyle 1049.83333333333$",
            "text/plain": [
              "1049.83333333333"
            ]
          },
          "metadata": {
            "tags": []
          },
          "execution_count": 20
        }
      ]
    },
    {
      "cell_type": "code",
      "metadata": {
        "colab": {
          "base_uri": "https://localhost:8080/",
          "height": 38
        },
        "id": "fQ_e_4CB08Qm",
        "outputId": "8acdbfd2-8da9-4ab2-ccb1-5d94db647c37"
      },
      "source": [
        "# Находим градиент. Берем производные по всем переменным:\n",
        "MSEx=diff(MSE, x)\n",
        "MSEx"
      ],
      "execution_count": null,
      "outputs": [
        {
          "output_type": "execute_result",
          "data": {
            "text/latex": "$\\displaystyle 20.6666666666667 x + 23.3333333333333 y + 8.33333333333333 z + 168.0$",
            "text/plain": [
              "20.6666666666667*x + 23.3333333333333*y + 8.33333333333333*z + 168.0"
            ]
          },
          "metadata": {
            "tags": []
          },
          "execution_count": 21
        }
      ]
    },
    {
      "cell_type": "code",
      "metadata": {
        "colab": {
          "base_uri": "https://localhost:8080/",
          "height": 38
        },
        "id": "oIS7yLTS1Ll7",
        "outputId": "f69e2661-6ded-4d4a-b3f5-e9c8549cc57f"
      },
      "source": [
        "MSEy=diff(MSE, y)\n",
        "MSEy"
      ],
      "execution_count": null,
      "outputs": [
        {
          "output_type": "execute_result",
          "data": {
            "text/latex": "$\\displaystyle 23.3333333333333 x + 40.0 y + 6.99999999999999 z + 284.0$",
            "text/plain": [
              "23.3333333333333*x + 40.0*y + 6.99999999999999*z + 284.0"
            ]
          },
          "metadata": {
            "tags": []
          },
          "execution_count": 22
        }
      ]
    },
    {
      "cell_type": "code",
      "metadata": {
        "colab": {
          "base_uri": "https://localhost:8080/",
          "height": 38
        },
        "id": "DWu7Pbpo1PDq",
        "outputId": "86159155-41ae-4a56-fcc5-1b8d6f0df456"
      },
      "source": [
        "MSEz=diff(MSE, z)\n",
        "MSEz"
      ],
      "execution_count": null,
      "outputs": [
        {
          "output_type": "execute_result",
          "data": {
            "text/latex": "$\\displaystyle 8.33333333333333 x + 6.99999999999999 y + 34.0 z + 68.0$",
            "text/plain": [
              "8.33333333333333*x + 6.99999999999999*y + 34.0*z + 68.0"
            ]
          },
          "metadata": {
            "tags": []
          },
          "execution_count": 23
        }
      ]
    },
    {
      "cell_type": "code",
      "metadata": {
        "id": "CuB9P6Et1TZk"
      },
      "source": [
        "# Задаем шаг градиентного спуска:\n",
        "\n",
        "step = 0.01"
      ],
      "execution_count": null,
      "outputs": []
    },
    {
      "cell_type": "code",
      "metadata": {
        "id": "PAh8t7XU1Yfz",
        "colab": {
          "base_uri": "https://localhost:8080/"
        },
        "outputId": "48206860-fea9-4666-f61e-b9b8bd577810"
      },
      "source": [
        "# Задаем начальную точку и проводим первую итерацию:\n",
        "point = np.array([0, 0, 0])\n",
        "grad = np.array([MSEx.subs({x: point[0], y: point[1], z: point[2]}),\n",
        "                 MSEy.subs({x: point[0], y: point[1], z: point[2]}),\n",
        "                 MSEz.subs({x: point[0], y: point[1], z: point[2]})])\n",
        "grad"
      ],
      "execution_count": null,
      "outputs": [
        {
          "output_type": "execute_result",
          "data": {
            "text/plain": [
              "array([168.000000000000, 284.000000000000, 68.0000000000000], dtype=object)"
            ]
          },
          "metadata": {
            "tags": []
          },
          "execution_count": 25
        }
      ]
    },
    {
      "cell_type": "code",
      "metadata": {
        "colab": {
          "base_uri": "https://localhost:8080/"
        },
        "id": "kxJyzkjD2myD",
        "outputId": "c7e4f1a8-894f-49b4-fb6c-b61c6fe0faea"
      },
      "source": [
        "next_point = point - step*grad\n",
        "next_point"
      ],
      "execution_count": null,
      "outputs": [
        {
          "output_type": "execute_result",
          "data": {
            "text/plain": [
              "array([-1.68000000000000, -2.84000000000000, -0.680000000000000],\n",
              "      dtype=object)"
            ]
          },
          "metadata": {
            "tags": []
          },
          "execution_count": 26
        }
      ]
    },
    {
      "cell_type": "code",
      "metadata": {
        "colab": {
          "base_uri": "https://localhost:8080/",
          "height": 37
        },
        "id": "Slkab-1221EC",
        "outputId": "9fe180cc-e7a6-428a-f330-0870572a13f2"
      },
      "source": [
        "MSE.subs({x: next_point[0], y: next_point[1], z:next_point[2]})"
      ],
      "execution_count": null,
      "outputs": [
        {
          "output_type": "execute_result",
          "data": {
            "text/latex": "$\\displaystyle 247.497333333333$",
            "text/plain": [
              "247.497333333333"
            ]
          },
          "metadata": {
            "tags": []
          },
          "execution_count": 27
        }
      ]
    },
    {
      "cell_type": "code",
      "metadata": {
        "id": "DJN_hlpQ3N7K",
        "colab": {
          "base_uri": "https://localhost:8080/"
        },
        "outputId": "d18e9e0c-90d4-47a8-92ac-4a7a9da26f7f"
      },
      "source": [
        "count_iter = 1 # Вводим переменную - счетчик итераций. 1, а не 0, т.к. у нас уже была одна итерация\n",
        "MSE_in_current_point = MSE.subs({x:point[0], y:point[1], z:point[2]})\n",
        "\n",
        "while MSE_in_current_point >= 55: \n",
        "    grad = np.array([MSEx.subs({x: point[0], y: point[1], z: point[2]}),\n",
        "                    MSEy.subs({x: point[0], y: point[1], z: point[2]}),\n",
        "                    MSEz.subs({x: point[0], y: point[1], z: point[2]})])\n",
        "    next_point = point - step*grad\n",
        "    MSE_in_current_point = MSE.subs({x: next_point[0], y: next_point[1], z:next_point[2]})\n",
        "    point = next_point\n",
        "    count_iter += 1 \n",
        "    print(count_iter)    \n"
      ],
      "execution_count": null,
      "outputs": [
        {
          "output_type": "stream",
          "text": [
            "2\n",
            "3\n",
            "4\n",
            "5\n",
            "6\n",
            "7\n",
            "8\n"
          ],
          "name": "stdout"
        }
      ]
    }
  ]
}