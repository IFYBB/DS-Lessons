{
 "cells": [
  {
   "cell_type": "markdown",
   "metadata": {
    "colab_type": "text",
    "id": "Zi98nJms5aJV"
   },
   "source": [
    "## Домашнее задание. Функции одной переменной, их свойства и графики.\n",
    "\n",
    "\n",
    "Домашнее задание к модулю состоит из двух частей. В первой части вы найдете пять графиков и 5 функций. Укажите, какой функции какой график соответствует.\n",
    "\tВо второй части дан набор функций. Исследуйте их на четность/нечетность, найдите их нули и промежутки знакопостоянства. Также, с помощью графиков, определите промежутки возрастания/убывания этих функций. Это легко сделать для линейной и показательной функций, для корня и логарифма немного сложнее, а для решения задачи с параболой нужно будет немного подумать. Если у вас нет желания поломать голову, находить промежутки возрастания/убывания параболы необязательно. Для тех, кто решит этим заняться, есть подсказка в текстовом описании под видео. <br><br>\n",
    "\tНа проверку пришлите ноутбук с выполненным исследованием. <br>\n"
   ]
  },
  {
   "cell_type": "markdown",
   "metadata": {
    "colab_type": "text",
    "id": "y1r4l2xB6Y_u"
   },
   "source": [
    "### Задание 1. \n",
    "\n",
    "а. $4x+5$ <br>\n",
    "б. $4x^2+4x+10$ <br>\n",
    "в. $100log(x)$ <br>\n",
    "г. $200\\sqrt x$ <br>\n",
    "д. $100e^{0.2x}$ <br>\n",
    "\n",
    "1. ![pic1.png](https://sun9-25.userapi.com/c858228/v858228580/11d685/oGV4QRM4g-I.jpg)\n",
    "2. ![pic2.png](https://sun9-13.userapi.com/c858228/v858228580/11d68c/aX9VkpWVosY.jpg)\n",
    "3. ![pic3.png](https://sun9-24.userapi.com/c858228/v858228580/11d693/Gzu0kXLECfg.jpg)\n",
    "4. ![pic4.png](https://sun9-45.userapi.com/c858228/v858228580/11d69a/sK-lypj-1Ik.jpg)\n",
    "5. ![pic5.png](https://sun9-3.userapi.com/c858228/v858228580/11d6a1/JpoMah5Jv0s.jpg)\n",
    "\n",
    "**Ответ:**"
   ]
  },
  {
   "cell_type": "markdown",
   "metadata": {},
   "source": [
    "а - 5 <br>\n",
    "б - 3 <br>\n",
    "в - 1 <br>\n",
    "г - 4 <br>\n",
    "д - 2"
   ]
  },
  {
   "cell_type": "markdown",
   "metadata": {
    "colab_type": "text",
    "id": "C-tgkRuE0XXX"
   },
   "source": [
    "### Задание 2. Проведите исследование полученных функций. \n",
    "\n",
    "1. $5x + 1.5$\n",
    "2. $2e^{0.2x}-1$\n",
    "3. $3\\sqrt x - 15$\n",
    "4. $2\\log(x) + 5$\n",
    "5. $-5x^2 - 10x + 100$\n",
    "\n",
    "\n"
   ]
  },
  {
   "cell_type": "code",
   "execution_count": 46,
   "metadata": {
    "colab": {},
    "colab_type": "code",
    "id": "0uvTmySu9IeC"
   },
   "outputs": [
    {
     "data": {
      "text/latex": [
       "$\\displaystyle 46.5$"
      ],
      "text/plain": [
       "46.5000000000000"
      ]
     },
     "execution_count": 46,
     "metadata": {},
     "output_type": "execute_result"
    }
   ],
   "source": [
    "from sympy import *\n",
    "from sympy.plotting import plot\n",
    "from sympy.solvers.inequalities import solve_univariate_inequality\n",
    "\n",
    "x = Symbol('x')\n",
    "f1 = 5*x + 1.5\n",
    "\n",
    "f1.subs(x, 9)"
   ]
  },
  {
   "cell_type": "code",
   "execution_count": 44,
   "metadata": {},
   "outputs": [
    {
     "data": {
      "image/png": "[encoded data removed]",
      "text/plain": [
       "<Figure size 432x288 with 1 Axes>"
      ]
     },
     "metadata": {
      "needs_background": "light"
     },
     "output_type": "display_data"
    },
    {
     "data": {
      "text/plain": [
       "<sympy.plotting.plot.Plot at 0x279434fed30>"
      ]
     },
     "execution_count": 44,
     "metadata": {},
     "output_type": "execute_result"
    }
   ],
   "source": [
    "plot(f1, (x, -3.0, 3.0))"
   ]
  },
  {
   "cell_type": "markdown",
   "metadata": {},
   "source": [
    "Проверка на четность/нечетность:"
   ]
  },
  {
   "cell_type": "code",
   "execution_count": 25,
   "metadata": {},
   "outputs": [
    {
     "data": {
      "text/latex": [
       "$\\displaystyle 501.5$"
      ],
      "text/plain": [
       "501.500000000000"
      ]
     },
     "execution_count": 25,
     "metadata": {},
     "output_type": "execute_result"
    }
   ],
   "source": [
    "f1.subs(x, 100)"
   ]
  },
  {
   "cell_type": "code",
   "execution_count": 26,
   "metadata": {},
   "outputs": [
    {
     "data": {
      "text/latex": [
       "$\\displaystyle -498.5$"
      ],
      "text/plain": [
       "-498.500000000000"
      ]
     },
     "execution_count": 26,
     "metadata": {},
     "output_type": "execute_result"
    }
   ],
   "source": [
    "f1.subs(x, -100)"
   ]
  },
  {
   "cell_type": "markdown",
   "metadata": {},
   "source": [
    "***Вывод:***\n",
    "\n",
    "Функция $5x + 1.5$ - нечетная.\n",
    "\n",
    "Найдем нули функции $5x + 1.5$"
   ]
  },
  {
   "cell_type": "code",
   "execution_count": 48,
   "metadata": {},
   "outputs": [
    {
     "data": {
      "text/plain": [
       "[-0.300000000000000]"
      ]
     },
     "execution_count": 48,
     "metadata": {},
     "output_type": "execute_result"
    }
   ],
   "source": [
    "solve(f1)"
   ]
  },
  {
   "cell_type": "markdown",
   "metadata": {},
   "source": [
    "Найдем интервалы возрастания и убывания:"
   ]
  },
  {
   "cell_type": "code",
   "execution_count": 50,
   "metadata": {},
   "outputs": [
    {
     "data": {
      "text/latex": [
       "$\\displaystyle -0.3 < x \\wedge x < \\infty$"
      ],
      "text/plain": [
       "(-0.3 < x) & (x < oo)"
      ]
     },
     "execution_count": 50,
     "metadata": {},
     "output_type": "execute_result"
    }
   ],
   "source": [
    "# Функция больше нуля:\n",
    "\n",
    "solve_univariate_inequality(f1>0, x)"
   ]
  },
  {
   "cell_type": "code",
   "execution_count": 51,
   "metadata": {},
   "outputs": [
    {
     "data": {
      "text/latex": [
       "$\\displaystyle -\\infty < x \\wedge x < -0.3$"
      ],
      "text/plain": [
       "(-oo < x) & (x < -0.3)"
      ]
     },
     "execution_count": 51,
     "metadata": {},
     "output_type": "execute_result"
    }
   ],
   "source": [
    "# Функция меньше нуля:\n",
    "\n",
    "solve_univariate_inequality(f1<0, x)"
   ]
  },
  {
   "cell_type": "code",
   "execution_count": 28,
   "metadata": {},
   "outputs": [
    {
     "data": {
      "image/png": "[encoded data removed]",
      "text/plain": [
       "<Figure size 432x288 with 1 Axes>"
      ]
     },
     "metadata": {
      "needs_background": "light"
     },
     "output_type": "display_data"
    },
    {
     "data": {
      "text/plain": [
       "<sympy.plotting.plot.Plot at 0x279430528e0>"
      ]
     },
     "execution_count": 28,
     "metadata": {},
     "output_type": "execute_result"
    }
   ],
   "source": [
    "f2 = 2*exp(0.2*x) - 1\n",
    "plot(f2)"
   ]
  },
  {
   "cell_type": "markdown",
   "metadata": {},
   "source": [
    "Проверка на четность/нечетность:"
   ]
  },
  {
   "cell_type": "code",
   "execution_count": 29,
   "metadata": {},
   "outputs": [
    {
     "data": {
      "text/latex": [
       "$\\displaystyle 970330389.819581$"
      ],
      "text/plain": [
       "970330389.819581"
      ]
     },
     "execution_count": 29,
     "metadata": {},
     "output_type": "execute_result"
    }
   ],
   "source": [
    "f2.subs(x, 100)"
   ]
  },
  {
   "cell_type": "code",
   "execution_count": 30,
   "metadata": {},
   "outputs": [
    {
     "data": {
      "text/latex": [
       "$\\displaystyle -0.999999995877693$"
      ],
      "text/plain": [
       "-0.999999995877693"
      ]
     },
     "execution_count": 30,
     "metadata": {},
     "output_type": "execute_result"
    }
   ],
   "source": [
    "f2.subs(x, -100)"
   ]
  },
  {
   "cell_type": "markdown",
   "metadata": {},
   "source": [
    "***Вывод:***\n",
    "\n",
    "Функция $2e^{0.2x}-1$ - нечетная.\n",
    "\n",
    "Найдем нули функции $2e^{0.2x}-1$:"
   ]
  },
  {
   "cell_type": "code",
   "execution_count": 52,
   "metadata": {},
   "outputs": [
    {
     "data": {
      "text/plain": [
       "[-3.46573590279973]"
      ]
     },
     "execution_count": 52,
     "metadata": {},
     "output_type": "execute_result"
    }
   ],
   "source": [
    "solve(f2)"
   ]
  },
  {
   "cell_type": "markdown",
   "metadata": {},
   "source": [
    "Найдем интервалы возрастания и убывания:"
   ]
  },
  {
   "cell_type": "code",
   "execution_count": 53,
   "metadata": {},
   "outputs": [
    {
     "data": {
      "text/latex": [
       "$\\displaystyle x < \\infty \\wedge - 5.0 \\log{\\left(2 \\right)} < x$"
      ],
      "text/plain": [
       "(x < oo) & (-5.0*log(2) < x)"
      ]
     },
     "execution_count": 53,
     "metadata": {},
     "output_type": "execute_result"
    }
   ],
   "source": [
    "# Функция больше нуля:\n",
    "\n",
    "solve_univariate_inequality(f2>0, x)"
   ]
  },
  {
   "cell_type": "code",
   "execution_count": 54,
   "metadata": {},
   "outputs": [
    {
     "data": {
      "text/latex": [
       "$\\displaystyle -\\infty < x \\wedge x < - 5.0 \\log{\\left(2 \\right)}$"
      ],
      "text/plain": [
       "(-oo < x) & (x < -5.0*log(2))"
      ]
     },
     "execution_count": 54,
     "metadata": {},
     "output_type": "execute_result"
    }
   ],
   "source": [
    "# Функция меньше нуля:\n",
    "\n",
    "solve_univariate_inequality(f2<0, x)"
   ]
  },
  {
   "cell_type": "code",
   "execution_count": 33,
   "metadata": {},
   "outputs": [
    {
     "data": {
      "image/png": "[encoded data removed]",
      "text/plain": [
       "<Figure size 432x288 with 1 Axes>"
      ]
     },
     "metadata": {
      "needs_background": "light"
     },
     "output_type": "display_data"
    },
    {
     "data": {
      "text/plain": [
       "<sympy.plotting.plot.Plot at 0x27942e1f580>"
      ]
     },
     "execution_count": 33,
     "metadata": {},
     "output_type": "execute_result"
    }
   ],
   "source": [
    "f3 = 3*sqrt(x) - 15\n",
    "plot(f3)"
   ]
  },
  {
   "cell_type": "markdown",
   "metadata": {},
   "source": [
    "Проверка на четность/нечетность:"
   ]
  },
  {
   "cell_type": "code",
   "execution_count": 34,
   "metadata": {},
   "outputs": [
    {
     "data": {
      "text/latex": [
       "$\\displaystyle 15$"
      ],
      "text/plain": [
       "15"
      ]
     },
     "execution_count": 34,
     "metadata": {},
     "output_type": "execute_result"
    }
   ],
   "source": [
    "f3.subs(x, 100)"
   ]
  },
  {
   "cell_type": "code",
   "execution_count": 35,
   "metadata": {},
   "outputs": [
    {
     "data": {
      "text/latex": [
       "$\\displaystyle -15 + 30 i$"
      ],
      "text/plain": [
       "-15 + 30*I"
      ]
     },
     "execution_count": 35,
     "metadata": {},
     "output_type": "execute_result"
    }
   ],
   "source": [
    "f3.subs(x, -100)"
   ]
  },
  {
   "cell_type": "markdown",
   "metadata": {},
   "source": [
    "***Вывод:***\n",
    "\n",
    "Функция $3\\sqrt x - 15$ - нечетная.\n",
    "\n",
    "Найдем нули функции $3\\sqrt x - 15$:"
   ]
  },
  {
   "cell_type": "code",
   "execution_count": 55,
   "metadata": {},
   "outputs": [
    {
     "data": {
      "text/plain": [
       "[25]"
      ]
     },
     "execution_count": 55,
     "metadata": {},
     "output_type": "execute_result"
    }
   ],
   "source": [
    "solve(f3)"
   ]
  },
  {
   "cell_type": "markdown",
   "metadata": {},
   "source": [
    "Найдем интервалы возрастания и убывания:"
   ]
  },
  {
   "cell_type": "code",
   "execution_count": 56,
   "metadata": {},
   "outputs": [
    {
     "data": {
      "text/latex": [
       "$\\displaystyle 25 < x \\wedge x < \\infty$"
      ],
      "text/plain": [
       "(25 < x) & (x < oo)"
      ]
     },
     "execution_count": 56,
     "metadata": {},
     "output_type": "execute_result"
    }
   ],
   "source": [
    "# Функция больше нуля:\n",
    "\n",
    "solve_univariate_inequality(f3>0, x)"
   ]
  },
  {
   "cell_type": "code",
   "execution_count": 57,
   "metadata": {},
   "outputs": [
    {
     "data": {
      "text/latex": [
       "$\\displaystyle 0 \\leq x \\wedge x < 25$"
      ],
      "text/plain": [
       "(0 <= x) & (x < 25)"
      ]
     },
     "execution_count": 57,
     "metadata": {},
     "output_type": "execute_result"
    }
   ],
   "source": [
    "# Функция меньше нуля:\n",
    "\n",
    "solve_univariate_inequality(f3<0, x)"
   ]
  },
  {
   "cell_type": "code",
   "execution_count": 36,
   "metadata": {},
   "outputs": [
    {
     "data": {
      "image/png": "[encoded data removed]",
      "text/plain": [
       "<Figure size 432x288 with 1 Axes>"
      ]
     },
     "metadata": {
      "needs_background": "light"
     },
     "output_type": "display_data"
    },
    {
     "data": {
      "text/plain": [
       "<sympy.plotting.plot.Plot at 0x279433c3d60>"
      ]
     },
     "execution_count": 36,
     "metadata": {},
     "output_type": "execute_result"
    }
   ],
   "source": [
    "f4 = 2*log(x)+5\n",
    "plot(f4)"
   ]
  },
  {
   "cell_type": "markdown",
   "metadata": {},
   "source": [
    "Проверка на четность/нечетность:"
   ]
  },
  {
   "cell_type": "code",
   "execution_count": 37,
   "metadata": {},
   "outputs": [
    {
     "data": {
      "text/latex": [
       "$\\displaystyle 5 + 2 \\log{\\left(100 \\right)}$"
      ],
      "text/plain": [
       "5 + 2*log(100)"
      ]
     },
     "execution_count": 37,
     "metadata": {},
     "output_type": "execute_result"
    }
   ],
   "source": [
    "f4.subs(x, 100)"
   ]
  },
  {
   "cell_type": "code",
   "execution_count": 38,
   "metadata": {},
   "outputs": [
    {
     "data": {
      "text/latex": [
       "$\\displaystyle 5 + 2 \\log{\\left(100 \\right)} + 2 i \\pi$"
      ],
      "text/plain": [
       "5 + 2*log(100) + 2*I*pi"
      ]
     },
     "execution_count": 38,
     "metadata": {},
     "output_type": "execute_result"
    }
   ],
   "source": [
    "f4.subs(x, -100)"
   ]
  },
  {
   "cell_type": "markdown",
   "metadata": {},
   "source": [
    "***Вывод:***\n",
    "\n",
    "Функция $2\\log(x) + 5$ - нечетная.\n",
    "\n",
    "Найдем нули функции $2\\log(x) + 5$:"
   ]
  },
  {
   "cell_type": "code",
   "execution_count": 58,
   "metadata": {},
   "outputs": [
    {
     "data": {
      "text/plain": [
       "[exp(-5/2)]"
      ]
     },
     "execution_count": 58,
     "metadata": {},
     "output_type": "execute_result"
    }
   ],
   "source": [
    "solve(f4)"
   ]
  },
  {
   "cell_type": "markdown",
   "metadata": {},
   "source": [
    "Найдем интервалы возрастания и убывания:"
   ]
  },
  {
   "cell_type": "code",
   "execution_count": 59,
   "metadata": {},
   "outputs": [
    {
     "data": {
      "text/latex": [
       "$\\displaystyle x < \\infty \\wedge e^{- \\frac{5}{2}} < x$"
      ],
      "text/plain": [
       "(x < oo) & (exp(-5/2) < x)"
      ]
     },
     "execution_count": 59,
     "metadata": {},
     "output_type": "execute_result"
    }
   ],
   "source": [
    "# Функция больше нуля:\n",
    "\n",
    "solve_univariate_inequality(f4>0, x)"
   ]
  },
  {
   "cell_type": "code",
   "execution_count": 60,
   "metadata": {},
   "outputs": [
    {
     "data": {
      "text/latex": [
       "$\\displaystyle 0 < x \\wedge x < e^{- \\frac{5}{2}}$"
      ],
      "text/plain": [
       "(0 < x) & (x < exp(-5/2))"
      ]
     },
     "execution_count": 60,
     "metadata": {},
     "output_type": "execute_result"
    }
   ],
   "source": [
    "# Функция меньше нуля:\n",
    "\n",
    "solve_univariate_inequality(f4<0, x)"
   ]
  },
  {
   "cell_type": "code",
   "execution_count": 40,
   "metadata": {},
   "outputs": [
    {
     "data": {
      "image/png": "[encoded data removed]",
      "text/plain": [
       "<Figure size 432x288 with 1 Axes>"
      ]
     },
     "metadata": {
      "needs_background": "light"
     },
     "output_type": "display_data"
    },
    {
     "data": {
      "text/plain": [
       "<sympy.plotting.plot.Plot at 0x27942e1f730>"
      ]
     },
     "execution_count": 40,
     "metadata": {},
     "output_type": "execute_result"
    }
   ],
   "source": [
    "f5 = -5*x**2 - 10*x + 100\n",
    "plot(f5)"
   ]
  },
  {
   "cell_type": "markdown",
   "metadata": {},
   "source": [
    "Проверка на четность/нечетность:"
   ]
  },
  {
   "cell_type": "code",
   "execution_count": 41,
   "metadata": {},
   "outputs": [
    {
     "data": {
      "text/latex": [
       "$\\displaystyle -50900$"
      ],
      "text/plain": [
       "-50900"
      ]
     },
     "execution_count": 41,
     "metadata": {},
     "output_type": "execute_result"
    }
   ],
   "source": [
    "f5.subs(x, 100)"
   ]
  },
  {
   "cell_type": "code",
   "execution_count": 42,
   "metadata": {},
   "outputs": [
    {
     "data": {
      "text/latex": [
       "$\\displaystyle -48900$"
      ],
      "text/plain": [
       "-48900"
      ]
     },
     "execution_count": 42,
     "metadata": {},
     "output_type": "execute_result"
    }
   ],
   "source": [
    "f5.subs(x, -100)"
   ]
  },
  {
   "cell_type": "markdown",
   "metadata": {},
   "source": [
    "***Вывод:***\n",
    "\n",
    "Функция $-5x^2 - 10x + 100$ - нечетная.\n",
    "\n",
    "Найдем нули функции $-5x^2 - 10x + 100$:"
   ]
  },
  {
   "cell_type": "code",
   "execution_count": 61,
   "metadata": {},
   "outputs": [
    {
     "data": {
      "text/plain": [
       "[-1 + sqrt(21), -sqrt(21) - 1]"
      ]
     },
     "execution_count": 61,
     "metadata": {},
     "output_type": "execute_result"
    }
   ],
   "source": [
    "solve(f5)"
   ]
  },
  {
   "cell_type": "markdown",
   "metadata": {},
   "source": [
    "Найдем интервалы возрастания и убывания:"
   ]
  },
  {
   "cell_type": "code",
   "execution_count": 62,
   "metadata": {},
   "outputs": [
    {
     "data": {
      "text/latex": [
       "$\\displaystyle x < -1 + \\sqrt{21} \\wedge - \\sqrt{21} - 1 < x$"
      ],
      "text/plain": [
       "(x < -1 + sqrt(21)) & (-sqrt(21) - 1 < x)"
      ]
     },
     "execution_count": 62,
     "metadata": {},
     "output_type": "execute_result"
    }
   ],
   "source": [
    "# Функция больше нуля:\n",
    "\n",
    "solve_univariate_inequality(f5>0, x)"
   ]
  },
  {
   "cell_type": "code",
   "execution_count": 64,
   "metadata": {},
   "outputs": [
    {
     "data": {
      "text/latex": [
       "$\\displaystyle \\left(-\\infty < x \\wedge x < - \\sqrt{21} - 1\\right) \\vee \\left(x < \\infty \\wedge -1 + \\sqrt{21} < x\\right)$"
      ],
      "text/plain": [
       "((x < oo) & (-1 + sqrt(21) < x)) | ((-oo < x) & (x < -sqrt(21) - 1))"
      ]
     },
     "execution_count": 64,
     "metadata": {},
     "output_type": "execute_result"
    }
   ],
   "source": [
    "# Функция меньше нуля:\n",
    "\n",
    "solve_univariate_inequality(f5<0, x)"
   ]
  }
 ],
 "metadata": {
  "colab": {
   "collapsed_sections": [],
   "name": "module4_hw.ipynb",
   "provenance": []
  },
  "kernelspec": {
   "display_name": "Python 3",
   "language": "python",
   "name": "python3"
  },
  "language_info": {
   "codemirror_mode": {
    "name": "ipython",
    "version": 3
   },
   "file_extension": ".py",
   "mimetype": "text/x-python",
   "name": "python",
   "nbconvert_exporter": "python",
   "pygments_lexer": "ipython3",
   "version": "3.8.3"
  }
 },
 "nbformat": 4,
 "nbformat_minor": 1
}
